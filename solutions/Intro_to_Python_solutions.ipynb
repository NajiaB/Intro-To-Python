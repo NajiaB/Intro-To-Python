{
  "cells": [
    {
      "cell_type": "markdown",
      "metadata": {
        "id": "CJdFvzhxAMoi"
      },
      "source": [
        "# Introduction to Python Workshop"
      ]
    },
    {
      "cell_type": "markdown",
      "metadata": {
        "id": "ahthhEOuAYeg"
      },
      "source": [
        "### Welcome!\n",
        "\n",
        "Welcome to the Intro to Python Workshop!  \n",
        "\n",
        "* Level: Beginner\n",
        "\n",
        "* Duration: 4 hours\n",
        "\n",
        "* prerequisite: None\n",
        "\n",
        "### Workshop goals\n",
        "\n",
        "* Learn basic Python syntax and concepts: variables, data types, lists, loops, fuctions, etc.\n",
        "* Practice writing simple scripts\n",
        "* Do basic data plotting to visualize results\n",
        "* Use Colab"
      ]
    },
    {
      "cell_type": "markdown",
      "source": [
        "## About Python...\n",
        "\n",
        "### What is Python?\n",
        "For more on the history, see: https://en.wikipedia.org/wiki/History_of_Python\n",
        "\n",
        "Python was introduced by Guido Van Rossum in 1991. It has a number of features:\n",
        "* Free and open source\n",
        "* Interpreted language\n",
        "* Object-oriented language\n",
        "\n",
        "### Free and Open Source\n",
        "Being a free and open source language, anyone can download and use Python, but also more! Anyone can distribute Python and even modify Python, or contribute to its development. Python is developed by the **community** that uses it.\n",
        "\n",
        "### Interpreted\n",
        "Python is an *interpreted* language, **not** a *compiled* language. This means that the entire program file is not translated into machine code before it is run. Instead, only parts of the program are translated when they need to be. This means that when you make a change to one part of a program, you don't need to rebuild your entire project. You often just need to restart your interpreter. This also means that you can open Python in your terminal, type in a single line, and it will work!\n",
        "\n",
        "### Object-Oriented\n",
        "In Python, we use **objects** to represent things. Yeah... I know that doesn't really help. So, objects are a way of representing something, and they group together **data** about that thing (in the form of *attributes*) and **manipulations** that you can do with that thing (in the form of *methods*). Lots of things in Python are represented using these objects from strings of text to lists and you can even make your own (we won't cover that today).\n",
        "\n",
        "## How to install Python\n",
        "\n",
        "You've probably done this in the setup for the workshop. There are a number of ways to download Python. If you're on macOS or Linux, lucky you! You might already have Python installed. To see if you do, just open up a terminal window (on macOS, it should be under `Applications > Utilities > Terminal` and on Linux you may be able to just press `Ctrl+Alt+T` to open a terminal window). Once you're there, type `which python`. If you see something that isn't an error message, you already have python. You may also have to try `which python3`.\n",
        "\n",
        "Now, if you don't have Python installed, you can install it from Python's website at https://www.python.org or get it from the Windows Store or your local software repository on Linux. But, there's another way that is quite helpful: using a Python distribution such as **Anaconda** or **miniconda**.\n",
        "\n",
        "Why use Anaconda? Well, it comes with **many** pre-installed packages which are very helpful in science, such as NumPy, SciPy, Matplotlib, Pandas, and more! It's a bit of a big download and the install takes a bit of time, but it is definitely worth it. To get Anaconda, just go to https://www.anaconda.com/ and hit the big green `Download` button. There is a graphical installer for Windows and macOS and a text-based installer for Windows, macOS and Linux. If you don't want to perform a 600 MB download, you can opt for miniconda instead. Go https://docs.conda.io/en/latest/miniconda.html and click on one of the download links,. Unlike Anaconda, miniconda doesn't come with the packages pre-installed, but it provides you with the `conda` tool to help you install them. We'll discuss Packages more later.\n",
        "\n",
        "Finally, if you don't want to install Python, then good news! If you have a Google Account, then you can use Python on the web. I'll discuss this more very soon.\n",
        "\n",
        "## Tools for Programming in Python\n",
        "\n",
        "There are many tools out there for programming in Python:\n",
        "* **Jupyter Notebooks:** Let's start with the tool that we're using now! This tool lets us combine code, explanations and figures. This is really good if you want to share your code with extra details. With a Google Account, you can use Jupyter notebooks remotely via **Google Colab**.\n",
        "* **`python` shell:** This is the most basic way of running a script in the command line or using an interpreter to run one line at a time.\n",
        "* **`ipython` shell:** Similar to the regular Python shell, but with better auto-complete and syntax highlighting.\n",
        "* **Microsoft Visual Studio Code:** code editor that can also be used for debugging and running Jupyter notebooks. Python extension necessary.\n",
        "* **Spyder:** Fully-fledged integrated development environment (IDE). Write and debug code, view figures.\n",
        "* **PyCharm:** Fully-fledged IDE developed by JetBrains. Community edition is open-source.\n",
        "\n"
      ],
      "metadata": {
        "id": "qPfADmQ9KlfJ"
      }
    },
    {
      "cell_type": "markdown",
      "source": [
        "\n",
        "---"
      ],
      "metadata": {
        "id": "X5S7z4fJLIyo"
      }
    },
    {
      "cell_type": "markdown",
      "metadata": {
        "id": "D870q8T6DJ2I"
      },
      "source": [
        "## How to use Colab\n",
        "\n",
        "Google Colab is cloud-based, so no installation required. It comes pre-loaded with many Python libraries (NumPy, Matplotlib, pandas, etc.), so we can import and use them right away. Colab notebooks can mix text (like notes, markdown) and code.\n",
        "\n",
        "To run code in Colab, we write python commands into a cell and execute it by clicking on Run cell."
      ]
    },
    {
      "cell_type": "code",
      "execution_count": 35,
      "metadata": {
        "colab": {
          "base_uri": "https://localhost:8080/"
        },
        "id": "-j1vWCwhAGGT",
        "outputId": "5d4995d6-147e-42e7-c277-7ab3a5549583"
      },
      "outputs": [
        {
          "output_type": "stream",
          "name": "stdout",
          "text": [
            "Hello World!\n"
          ]
        }
      ],
      "source": [
        "# Let's run our first command (This is a comment, it is never executed)\n",
        "print(\"Hello World!\")"
      ]
    },
    {
      "cell_type": "code",
      "execution_count": null,
      "metadata": {
        "colab": {
          "base_uri": "https://localhost:8080/"
        },
        "id": "YUzmQR7WFYpv",
        "outputId": "ed5fe982-e190-4b9d-c04e-b0b7923e4fe2"
      },
      "outputs": [
        {
          "data": {
            "text/plain": [
              "2"
            ]
          },
          "execution_count": 2,
          "metadata": {},
          "output_type": "execute_result"
        }
      ],
      "source": [
        "# Perform basic calculations\n",
        "1+1"
      ]
    },
    {
      "cell_type": "markdown",
      "source": [
        "\n",
        "\n",
        "---\n",
        "\n"
      ],
      "metadata": {
        "id": "jAPyy65BC8fz"
      }
    },
    {
      "cell_type": "markdown",
      "metadata": {
        "id": "D7wBKiMBFLXK"
      },
      "source": [
        "## Part 1: Python Syntax & Variables\n",
        "In Python, a variable is a named container that stores a value (number, text, etc).\n",
        "\n"
      ]
    },
    {
      "cell_type": "markdown",
      "source": [
        "### Basic assigment\n",
        "We use the sign `=` to assign a value to a variable"
      ],
      "metadata": {
        "id": "5QIvjdeTvyHC"
      }
    },
    {
      "cell_type": "code",
      "execution_count": null,
      "metadata": {
        "colab": {
          "base_uri": "https://localhost:8080/"
        },
        "id": "KVbJE6s_F82g",
        "outputId": "e851094a-0e65-42d7-9c0a-a054241ee1fd"
      },
      "outputs": [
        {
          "name": "stdout",
          "output_type": "stream",
          "text": [
            "25\n"
          ]
        }
      ],
      "source": [
        "# Create a variable that stores your age\n",
        "age=25\n",
        "print(age)\n"
      ]
    },
    {
      "cell_type": "markdown",
      "metadata": {
        "id": "OevvXbVKGtNl"
      },
      "source": [
        "Now, let's create a variable which contains text. We call it a `string`.\n",
        "\n",
        "The text should be in quotation marks."
      ]
    },
    {
      "cell_type": "code",
      "execution_count": null,
      "metadata": {
        "colab": {
          "base_uri": "https://localhost:8080/"
        },
        "id": "hOD0XimaG3Wa",
        "outputId": "28109b0c-d0d5-44ce-a6fa-bf91ea1157cb"
      },
      "outputs": [
        {
          "name": "stdout",
          "output_type": "stream",
          "text": [
            "Najia\n"
          ]
        }
      ],
      "source": [
        "# Create a variable that stores your name\n",
        "name = \"Najia\"\n",
        "print(name)\n"
      ]
    },
    {
      "cell_type": "markdown",
      "metadata": {
        "id": "W2t6rVl6HgQ1"
      },
      "source": [
        "Now, using the `print()` function and the `name` and `age` variable, introduce yourself."
      ]
    },
    {
      "cell_type": "code",
      "execution_count": null,
      "metadata": {
        "colab": {
          "base_uri": "https://localhost:8080/"
        },
        "id": "avvb0gd5Hgwj",
        "outputId": "03c6596f-2d42-4d28-f669-251fefef25c7"
      },
      "outputs": [
        {
          "name": "stdout",
          "output_type": "stream",
          "text": [
            "My name is Najia and I am 25 years old!\n",
            "My name is Najia and I am 25 years old!\n"
          ]
        }
      ],
      "source": [
        "# Print a sentence to present yourself\n",
        "\n",
        "print(\"My name is\", name, \"and I am\", age, \"years old!\")\n",
        "\n",
        "print(f\"My name is {name} and I am {age} years old!\")"
      ]
    },
    {
      "cell_type": "markdown",
      "metadata": {
        "id": "fIALCEwWJ3u4"
      },
      "source": [
        "### Be careful!\n",
        "\n",
        "* Variable names consist of standard alphanumeric characters and the underscore _. A variable name cannot begin with a number. Feel free to use explicit and descriptive names with enough letters for clarity.\n",
        "\n",
        "* Python is case-sensitive. This means it distinguishes between uppercase and lowercase letters. For example, the variables var and Var are considered different.\n",
        "\n",
        "* The `=` sign has a different meaning that in math! In Python, `a=b` is different from `b=a` ! We will later see that the equal sign as in math is actually `==`\n",
        "\n",
        "#### Are these variables okay to use? Why?\n",
        "\n",
        "* *age = 15\n",
        "* 1_day = 24\n",
        "* 15 = age\n",
        "* age == 15"
      ]
    },
    {
      "cell_type": "code",
      "execution_count": null,
      "metadata": {
        "id": "y_jmGO3XLSrc"
      },
      "outputs": [],
      "source": [
        "# Forbidden variable names\n",
        "\n"
      ]
    },
    {
      "cell_type": "markdown",
      "metadata": {
        "id": "4hWEhtvWMyzE"
      },
      "source": [
        "### Cool trick: simultanious assignments\n",
        "\n",
        "You can assign multiple variables at once by separating them with commas (a tuple). You may include parentheses around the tuple or omit them. In general, parentheses improve readability."
      ]
    },
    {
      "cell_type": "code",
      "execution_count": 10,
      "metadata": {
        "id": "y-2i85TyMyTj"
      },
      "outputs": [],
      "source": [
        "name, age, program = \"Najia\", 25, \"QLS\"\n",
        "\n",
        "# same as\n",
        "\n",
        "(name, age, program) = (\"Najia\", 25, \"QLS\")"
      ]
    },
    {
      "cell_type": "markdown",
      "metadata": {
        "id": "AujNdXIlNWgc"
      },
      "source": [
        "Simultaneous assignment makes it easy to swap the values of two variables. This is a very convenient feature that is specific to Python."
      ]
    },
    {
      "cell_type": "code",
      "execution_count": null,
      "metadata": {
        "colab": {
          "base_uri": "https://localhost:8080/"
        },
        "id": "7eg1iLmFNaFA",
        "outputId": "fe0b06c7-006a-48da-c60e-94570cfa9cda"
      },
      "outputs": [
        {
          "name": "stdout",
          "output_type": "stream",
          "text": [
            "5\n",
            "1\n"
          ]
        }
      ],
      "source": [
        "a = 1\n",
        "b = 5\n",
        "\n",
        "(a,b) = (b,a)\n",
        "print(a)\n",
        "print(b)"
      ]
    },
    {
      "cell_type": "markdown",
      "metadata": {
        "id": "BTgQH4UOOCwO"
      },
      "source": [
        "Finally, if you are unsure about the type of a variable, you can always check using `type()`.\n",
        "![1_QfI8H_8HplGa1v9IrrWjBA.webp](data:image/webp;base64,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)\n",
        "\n",
        "*source: https://medium.com/@shawnren527/learn-about-python-3-data-types-numbers-and-strings-76c75a917c9b*"
      ]
    },
    {
      "cell_type": "code",
      "execution_count": 12,
      "metadata": {
        "colab": {
          "base_uri": "https://localhost:8080/"
        },
        "id": "7qKiNuQ-OIsX",
        "outputId": "252d5851-7835-45d5-9c9b-353aeb3a793f"
      },
      "outputs": [
        {
          "output_type": "stream",
          "name": "stdout",
          "text": [
            "Type of variable age int\n",
            "Type of variable name str\n"
          ]
        }
      ],
      "source": [
        "# Check the type of the variables name and age\n",
        "print(\"Type of variable age\", type(age).__name__ )\n",
        "print(\"Type of variable name\", type(name).__name__  )"
      ]
    },
    {
      "cell_type": "markdown",
      "metadata": {
        "id": "mx370wYKix2N"
      },
      "source": [
        "What is the type of those numbers/variables/expressions:\n",
        "* 2.5\n",
        "* 2+2i\n",
        "* True\n",
        "* 5 == 5\n"
      ]
    },
    {
      "cell_type": "code",
      "execution_count": 83,
      "metadata": {
        "colab": {
          "base_uri": "https://localhost:8080/"
        },
        "id": "D64xDO8kib1X",
        "outputId": "f6640192-aa30-496b-9417-b7a57b95a9e0"
      },
      "outputs": [
        {
          "output_type": "stream",
          "name": "stdout",
          "text": [
            "Type of 2.5: float\n",
            "Type of 2+2i: complex\n",
            "Type of True: bool\n",
            "Type of 5==5: bool\n"
          ]
        }
      ],
      "source": [
        "# Types\n",
        "print(\"Type of 2.5:\", type(2.5).__name__)\n",
        "print(\"Type of 2+2i:\", type(2+2j).__name__ )\n",
        "print(\"Type of True:\", type(True).__name__ )\n",
        "print(\"Type of 5==5:\", type(5==5).__name__ )"
      ]
    },
    {
      "cell_type": "markdown",
      "metadata": {
        "id": "dr_aND-eFgTV"
      },
      "source": [
        "### Operators in Python!\n",
        "\n",
        "### Arithmetic operators\n",
        "\n",
        "Let's do some math using Python! This table present the most used arithmetic operators\n",
        "\n",
        "$$\n",
        "\\begin{array}{|c|l|c|}\n",
        "\\hline\n",
        "\\textbf{Operator} & \\textbf{Name} & \\textbf{Example} \\\\\n",
        "\\hline\n",
        "+  & \\text{Addition}       & x + y \\\\\n",
        "-  & \\text{Subtraction}    & x - y \\\\\n",
        "*  & \\text{Multiplication} & x * y \\\\\n",
        "/  & \\text{Division}       & x / y \\\\\n",
        "\\% & \\text{Modulus}        & x \\% y \\\\\n",
        "** & \\text{Exponentiation} & x ** y \\\\\n",
        "// & \\text{Floor Division} & x // y \\\\\n",
        "\\hline\n",
        "\\end{array}\n",
        "$$\n",
        "\n",
        "\n",
        "Do you think you can solve this using Python?\n",
        "\n",
        "$$(3^2+5)×2 3−10÷2$$"
      ]
    },
    {
      "cell_type": "code",
      "execution_count": 57,
      "metadata": {
        "colab": {
          "base_uri": "https://localhost:8080/"
        },
        "id": "WshkN08SlMew",
        "outputId": "06319eda-993d-47fe-cda1-93a0c229da27"
      },
      "outputs": [
        {
          "output_type": "execute_result",
          "data": {
            "text/plain": [
              "317.0"
            ]
          },
          "metadata": {},
          "execution_count": 57
        }
      ],
      "source": [
        "# Solve it :)\n",
        "(3**2+5)*23-10/2"
      ]
    },
    {
      "cell_type": "markdown",
      "metadata": {
        "id": "dLKCFnlLlx6u"
      },
      "source": [
        "#### Comparison Operators (Booleans)\n",
        "\n",
        "We compare things in Python all the time. For example, we can compare two variables to test if a condition is verified. This is very helpful when we're dealing with conditions and loops!  \n",
        "\n",
        "$$\n",
        "\\begin{array}{|c|l|c|}\n",
        "\\hline\n",
        "\\textbf{Operator} & \\textbf{Name} & \\textbf{Example} \\\\\n",
        "\\hline\n",
        "==  & \\text{Equal}                     & x == y \\\\\n",
        "!=  & \\text{Not equal}                & x \\neq y \\\\\n",
        ">   & \\text{Greater than}             & x > y \\\\\n",
        "<   & \\text{Less than}                & x < y \\\\\n",
        ">= & \\text{Greater than or equal to} & x \\ge y \\\\\n",
        "<= & \\text{Less than or equal to}    & x \\le y \\\\\n",
        "\\hline\n",
        "\\end{array}\n",
        "$$\n",
        "\n",
        "When we compare two quantities, the output is always a boolean (`True` or `False`)."
      ]
    },
    {
      "cell_type": "code",
      "execution_count": 58,
      "metadata": {
        "colab": {
          "base_uri": "https://localhost:8080/"
        },
        "id": "XU6zQi0Pmcl6",
        "outputId": "0a652c8d-c89a-4558-efb6-922aa2172c2a"
      },
      "outputs": [
        {
          "output_type": "stream",
          "name": "stdout",
          "text": [
            "a is equal to b ==>  False\n",
            "a is not equal to b ==>  True\n",
            "a is greater than b ==>  True\n",
            "a is less than or equal to b ==>  False\n"
          ]
        }
      ],
      "source": [
        "# compare a and b using all the operators in the table\n",
        "a=5\n",
        "b=1\n",
        "\n",
        "print(\"a is equal to b ==> \", a==b)\n",
        "print(\"a is not equal to b ==> \", a!=b)\n",
        "print(\"a is greater than b ==> \", a>b)\n",
        "print(\"a is less than or equal to b ==> \", a<=b)"
      ]
    },
    {
      "cell_type": "markdown",
      "metadata": {
        "id": "99im2eOmnqLT"
      },
      "source": [
        "[texte du lien](https://)#### Logical operators (Booleans)\n",
        "\n",
        "Logical operators are used to combine conditional statements. They return boolean values (`True` or `False`) based on logical relationships between conditions.\n",
        "\n",
        "The table below summarizes the three main logical operators in Python:\n",
        "\n",
        "\n",
        "$$\n",
        "\\begin{array}{|c|l|c|}\n",
        "\\hline\n",
        "\\textbf{Operator} & \\textbf{Description} & \\textbf{Example} \\\\\n",
        "\\hline\n",
        "\\texttt{and} & \\text{Returns True if both statements are true} & x < 5 \\text{ and } x < 10 \\\\\n",
        "\\texttt{or}  & \\text{Returns True if at least one statement is true} & x < 5 \\text{ or } x < 4 \\\\\n",
        "\\texttt{not} & \\text{Reverses the result (True becomes False)} & \\text{not}(x < 5 \\text{ and } x < 10) \\\\\n",
        "\\hline\n",
        "\\end{array}\n",
        "$$\n",
        "\n",
        "\n",
        "\n",
        "Now, using the variables `a`and `b` and our logical operators, can you write:\n",
        "*  one `True` statement?  \n",
        "* one `False` statement?\n"
      ]
    },
    {
      "cell_type": "code",
      "execution_count": null,
      "metadata": {
        "colab": {
          "base_uri": "https://localhost:8080/"
        },
        "id": "nJVKzLGjoab3",
        "outputId": "63242e20-ac9b-4135-bd1e-ee002af11beb"
      },
      "outputs": [
        {
          "name": "stdout",
          "output_type": "stream",
          "text": [
            "Statement 1 is True\n",
            "Statement 2 is False\n"
          ]
        }
      ],
      "source": [
        "# True statement\n",
        "\n",
        "statement1 =a>b or a==1\n",
        "print(\"Statement 1 is\", statement1)\n",
        "\n",
        "# False statement\n",
        "\n",
        "statement2 = not(a<10 and a<500 )\n",
        "statement2= a>b and a==1\n",
        "print(\"Statement 2 is\", statement2)\n"
      ]
    },
    {
      "cell_type": "markdown",
      "metadata": {
        "id": "D0Z_t-Y_3_rf"
      },
      "source": [
        "### Incrementing a variable\n",
        "\n",
        "Let’s suppose that in your program, you know that the variable `a` holds a number. You simply want to increase its value by `k` — this is called incrementing.\n",
        "\n",
        "For example, to increment by 1:\n",
        "\n",
        "* If the variable `a` initially points to 5, you want it to point to 5 + 1 = 6 afterwards.\n",
        "\n",
        "* If it initially points to −12, you want it to point to −12 + 1 = −11 afterwards.\n",
        "\n",
        "There are many ways to do this in Python! The most natural way would be to replace the value of the variable `a` by `a+1`\n"
      ]
    },
    {
      "cell_type": "code",
      "execution_count": 85,
      "metadata": {
        "id": "a8UwNENb4kGB",
        "colab": {
          "base_uri": "https://localhost:8080/"
        },
        "outputId": "272e3315-a9c3-4bcb-fcc2-e1336e16fdfd"
      },
      "outputs": [
        {
          "output_type": "stream",
          "name": "stdout",
          "text": [
            "6\n"
          ]
        }
      ],
      "source": [
        "# Increment the variable a by 5!\n",
        "\n",
        "a = 1\n",
        "a = a + 5\n",
        "print(a)"
      ]
    },
    {
      "cell_type": "markdown",
      "metadata": {
        "id": "ua3tccV34tyw"
      },
      "source": [
        "We can also use more fancy ways to achieve the same result! This table presents all the assignment operators!\n",
        "\n",
        "$$\n",
        "\\begin{array}{|c|l|l|}\n",
        "\\hline\n",
        "\\textbf{Operator} & \\textbf{Example} & \\textbf{Same As} \\\\\n",
        "\\hline\n",
        "\\texttt{=}   & x = 5         & x = 5 \\\\\n",
        "\\texttt{+=}  & x += 3        & x = x + 3 \\\\\n",
        "\\texttt{-=}  & x -= 3        & x = x - 3 \\\\\n",
        "\\texttt{*=}  & x *= 3        & x = x * 3 \\\\\n",
        "\\texttt{/=}  & x /= 3        & x = x / 3 \\\\\n",
        "\\texttt{%=} & x \\%= 3       & x = x \\% 3 \\\\\n",
        "\\texttt{//=} & x //= 3       & x = x // 3 \\\\\n",
        "\\texttt{**=} & x **= 3       & x = x ** 3 \\\\\n",
        "\\hline\n",
        "\\end{array}\n",
        "$$\n"
      ]
    },
    {
      "cell_type": "code",
      "execution_count": 87,
      "metadata": {
        "colab": {
          "base_uri": "https://localhost:8080/"
        },
        "id": "dj5M7LtR6jeX",
        "outputId": "59c7fdaa-329a-4653-877f-c7668d871526"
      },
      "outputs": [
        {
          "output_type": "stream",
          "name": "stdout",
          "text": [
            "6\n"
          ]
        }
      ],
      "source": [
        "# Increment the variable a again!\n",
        "a=1\n",
        "a += 5\n",
        "print(a)"
      ]
    },
    {
      "cell_type": "markdown",
      "metadata": {
        "id": "CXTFiyrx-fOR"
      },
      "source": [
        "### Strings\n",
        "\n",
        "  We use strings for text. They are represented by the type `str`\n",
        "\n",
        "  A string should be enclosed in either simple quotes `'` or double quotes `\"`, but not both at the same time!"
      ]
    },
    {
      "cell_type": "code",
      "execution_count": null,
      "metadata": {
        "colab": {
          "base_uri": "https://localhost:8080/"
        },
        "id": "iq5ReCLvBVrj",
        "outputId": "090352f4-8806-4bb4-9a5e-5e9174828ce4"
      },
      "outputs": [
        {
          "name": "stdout",
          "output_type": "stream",
          "text": [
            "Hi again!\n"
          ]
        }
      ],
      "source": [
        "# str example\n",
        "print(\"Hi again!\")"
      ]
    },
    {
      "cell_type": "code",
      "execution_count": null,
      "metadata": {
        "id": "Tu7VDwBqBrAa"
      },
      "outputs": [],
      "source": [
        "message = \"Welcome to our Intro to Python workshop!\"\n",
        "\n",
        "print(message)"
      ]
    },
    {
      "cell_type": "markdown",
      "metadata": {
        "id": "CqxUlAQiCAE-"
      },
      "source": [
        "We have seen earlier that there are plenty of operations that we can perform on numerical variables. Strings have their own operations too!\n",
        "\n",
        "Here are some very useful ones:\n",
        "\n",
        "$$\n",
        "\\begin{array}{|c|l|l|}\n",
        "\\hline\n",
        "\\textbf{Operation} & \\textbf{Python Syntax} & \\textbf{Description} \\\\\n",
        "\\hline\n",
        "\\text{Concatenation} & a + b & \\text{Joins the two strings } a \\text{ and } b \\text{ together} \\\\\n",
        "\\hline\n",
        "\\text{Length} & \\text{len(s)} & \\text{Returns the number of characters in string } s \\\\\n",
        "\\hline\n",
        "\\text{Repetition} & n * s & \\text{Repeats the string } s \\text{, } n \\text{ times} \\\\\n",
        "\\hline\n",
        "\\text{Membership} & a \\text{ in } b & \\text{Checks if string } a \\text{ is in string } b \\\\\n",
        "\\hline\n",
        "\\text{Non-membership} & a \\text{ not in } b & \\text{Checks if string } a \\text{ is not in string } b \\\\\n",
        "\\hline\n",
        "\\end{array}\n",
        "$$\n",
        "\n"
      ]
    },
    {
      "cell_type": "code",
      "execution_count": 89,
      "metadata": {
        "id": "4ZHQxMdJC9bD",
        "colab": {
          "base_uri": "https://localhost:8080/"
        },
        "outputId": "f36acd30-1e73-4549-e625-053e4eb4aa9c"
      },
      "outputs": [
        {
          "output_type": "stream",
          "name": "stdout",
          "text": [
            "concatenated DNA sequence: AGATGCTGCGGGTGATGC\n"
          ]
        }
      ],
      "source": [
        "# concatenation\n",
        "\n",
        "DNA_seq1 = \"AGATGCTGC\"\n",
        "DNA_seq2 = \"GGGTGATGC\"\n",
        "\n",
        "print(\"concatenated DNA sequence:\" ,DNA_seq1 + DNA_seq2)"
      ]
    },
    {
      "cell_type": "code",
      "execution_count": 93,
      "metadata": {
        "id": "7EQYHWV5DNkh",
        "colab": {
          "base_uri": "https://localhost:8080/"
        },
        "outputId": "82876ab0-6394-4a49-80bd-0e3ce5ba578b"
      },
      "outputs": [
        {
          "output_type": "stream",
          "name": "stdout",
          "text": [
            "9\n",
            "18\n"
          ]
        }
      ],
      "source": [
        "# Length of the first DNA sequence?\n",
        "print(len(DNA_seq1))\n",
        "\n",
        "# Length of the concatenated DNA sequence?\n",
        "print(len(DNA_seq1 + DNA_seq2))"
      ]
    },
    {
      "cell_type": "code",
      "execution_count": 94,
      "metadata": {
        "id": "X9FTmRA7DWGv",
        "colab": {
          "base_uri": "https://localhost:8080/",
          "height": 35
        },
        "outputId": "9d1a8e6d-9c32-44b7-fee1-69be42ed6b45"
      },
      "outputs": [
        {
          "output_type": "execute_result",
          "data": {
            "text/plain": [
              "'AGATGCTGCAGATGCTGCAGATGCTGCAGATGCTGCAGATGCTGC'"
            ],
            "application/vnd.google.colaboratory.intrinsic+json": {
              "type": "string"
            }
          },
          "metadata": {},
          "execution_count": 94
        }
      ],
      "source": [
        "# Repeat DNA_seq1 5 times!\n",
        "DNA_seq1*5\n"
      ]
    },
    {
      "cell_type": "code",
      "execution_count": 95,
      "metadata": {
        "id": "hcpj4iTFDar1",
        "colab": {
          "base_uri": "https://localhost:8080/"
        },
        "outputId": "0eb06aaf-06da-46e4-878b-ad746fa71b4c"
      },
      "outputs": [
        {
          "output_type": "execute_result",
          "data": {
            "text/plain": [
              "True"
            ]
          },
          "metadata": {},
          "execution_count": 95
        }
      ],
      "source": [
        "# Is DNA_seq1 present in big_DNA_seq?\n",
        "big_DNA_seq = \"GATAGCTGCTAGCTCGTAGCCATGCATCAACGTGGATGCAGTGGGGAGATGCTGCGTGATCGATCA\"\n",
        "DNA_seq1 in big_DNA_seq\n"
      ]
    },
    {
      "cell_type": "code",
      "execution_count": 96,
      "metadata": {
        "colab": {
          "base_uri": "https://localhost:8080/"
        },
        "id": "IUwsXce2Dydf",
        "outputId": "fc8400b5-b0cb-47b0-9e21-0c3c05a0341a"
      },
      "outputs": [
        {
          "output_type": "execute_result",
          "data": {
            "text/plain": [
              "False"
            ]
          },
          "metadata": {},
          "execution_count": 96
        }
      ],
      "source": [
        "# Is DNA_seq2 present in big_DNA_seq?\n",
        "DNA_seq2 in big_DNA_seq\n"
      ]
    },
    {
      "cell_type": "markdown",
      "metadata": {
        "id": "BgsmOJk-FFN1"
      },
      "source": [
        "#### Slicing and indexing\n",
        "In a string, the characters are numbered starting from 0. This allows you to refer to specific characters by their position."
      ]
    },
    {
      "cell_type": "markdown",
      "metadata": {
        "id": "mzignLyOEaB2"
      },
      "source": [
        "$$\n",
        "\\begin{array}{|l|l|}\n",
        "\\hline\n",
        "\\textbf{Syntax} & \\textbf{Meaning} \\\\\n",
        "\\hline\n",
        "\\texttt{string[i]} & \\text{The $i^\\text{th}$ element (indexing starts at 0).} \\\\\\\\\n",
        "                  & \\text{If $i$ is negative, it counts from the end of the string.} \\\\\n",
        "\\hline\n",
        "\\texttt{string[i:j]} & \\text{Substring from index $i$ (included) to $j$(excluded)}. \\\\\\\\\n",
        "                     & \\text{If $i$ is omitted, it defaults to 0 (start of the string).} \\\\\\\\\n",
        "                     & \\text{If $j$ is omitted, it defaults to len(string) (end of the string).} \\\\\n",
        "\\hline\n",
        "\\texttt{string[i:j:k]} & \\text{Substring from $i$ (included) to $j$ (excluded), with a step of $k$.} \\\\\\\\\n",
        "                       & \\text{$k$ can be negative to slice in reverse order.} \\\\\n",
        "\\hline\n",
        "\\end{array}\n",
        "$$\n",
        "\n",
        "\n",
        "\n",
        "Let's try this on some examples:\n"
      ]
    },
    {
      "cell_type": "code",
      "execution_count": 102,
      "metadata": {
        "id": "KZXYMhe4z5d1",
        "colab": {
          "base_uri": "https://localhost:8080/"
        },
        "outputId": "c09dd19e-1816-4f66-8fd6-dda78b7d0db5"
      },
      "outputs": [
        {
          "output_type": "stream",
          "name": "stdout",
          "text": [
            "first nucleotide of DNA_seq1: A\n",
            "last nucleotide of DNA_seq1: C\n",
            "the first 5 nucletides of big_DNA_seq: AGATG\n",
            "the last 5 nucletides of big_DNA_seq: GCTGC\n"
          ]
        }
      ],
      "source": [
        "# Get the first nucleotide of DNA_seq1\n",
        "print(\"first nucleotide of DNA_seq1:\", DNA_seq1[0])\n",
        "# Get the last nucleotide of DNA_seq1\n",
        "print(\"last nucleotide of DNA_seq1:\", DNA_seq1[-1])\n",
        "# Get the first 5 nucletides of big_DNA_seq\n",
        "print(\"the first 5 nucletides of big_DNA_seq:\", DNA_seq1[0:5])\n",
        "# Get the last 5 nucletides of big_DNA_seq\n",
        "print(\"the last 5 nucletides of big_DNA_seq:\", DNA_seq1[-5:])\n",
        "\n",
        "\n"
      ]
    },
    {
      "cell_type": "code",
      "execution_count": 97,
      "metadata": {
        "id": "7MmoHxZA5Yzg",
        "colab": {
          "base_uri": "https://localhost:8080/",
          "height": 35
        },
        "outputId": "0a5cddd9-0458-49f0-edbb-7ef12ca5af0a"
      },
      "outputs": [
        {
          "output_type": "execute_result",
          "data": {
            "text/plain": [
              "'GATAGCTGCTAGCTCGTAGCCATGCATCAACGTGGATGCAGTGGGGAGATGCTGCGTGATCGATCA'"
            ],
            "application/vnd.google.colaboratory.intrinsic+json": {
              "type": "string"
            }
          },
          "metadata": {},
          "execution_count": 97
        }
      ],
      "source": [
        "# What if I do this?\n",
        "\n",
        "big_DNA_seq[:]\n",
        "big_DNA_seq[0:len(big_DNA_seq)]\n"
      ]
    },
    {
      "cell_type": "markdown",
      "metadata": {
        "id": "RcKGvHpgHimD"
      },
      "source": [
        "### BONUS: Get input from user\n",
        "\n",
        "To read user input, use the input command. By default, input returns a string."
      ]
    },
    {
      "cell_type": "code",
      "execution_count": 13,
      "metadata": {
        "colab": {
          "base_uri": "https://localhost:8080/"
        },
        "id": "auDjolxgH3B0",
        "outputId": "35547514-fa60-4334-8425-bbabe13b775a"
      },
      "outputs": [
        {
          "name": "stdout",
          "output_type": "stream",
          "text": [
            "Please enter an integer between 1 and 10 10\n"
          ]
        }
      ],
      "source": [
        "# get user's age\n",
        "\n",
        "user_int = input(\"Please enter an integer between 1 and 10 \")"
      ]
    },
    {
      "cell_type": "code",
      "execution_count": 15,
      "metadata": {
        "colab": {
          "base_uri": "https://localhost:8080/"
        },
        "id": "zeX1tbRHIHFs",
        "outputId": "4d777d18-6a98-41a5-ee76-8f18c7e51ca6"
      },
      "outputs": [
        {
          "output_type": "stream",
          "name": "stdout",
          "text": [
            "10\n"
          ]
        },
        {
          "output_type": "execute_result",
          "data": {
            "text/plain": [
              "20"
            ]
          },
          "metadata": {},
          "execution_count": 15
        }
      ],
      "source": [
        "print(user_int)\n",
        "\n",
        "# Add 10 to user_int\n",
        "\n",
        "# user_int + 10 should not work because user_int is a `str`\n",
        "\n",
        "user_int = int(user_int)\n",
        "user_int + 10 # should work now :)"
      ]
    },
    {
      "cell_type": "code",
      "execution_count": 18,
      "metadata": {
        "colab": {
          "base_uri": "https://localhost:8080/"
        },
        "id": "eYyTJTdvII8z",
        "outputId": "06f2520d-8770-4687-d8bc-0c2118192a9d"
      },
      "outputs": [
        {
          "name": "stdout",
          "output_type": "stream",
          "text": [
            "Please enter an integer between 1 and 10 5\n"
          ]
        },
        {
          "output_type": "execute_result",
          "data": {
            "text/plain": [
              "5"
            ]
          },
          "metadata": {},
          "execution_count": 18
        }
      ],
      "source": [
        "# We can force the input to be a float or any type we want\n",
        "\n",
        "user_int = int(input(\"Please enter an integer between 1 and 10 \"))\n",
        "user_int"
      ]
    },
    {
      "cell_type": "code",
      "execution_count": 19,
      "metadata": {
        "colab": {
          "base_uri": "https://localhost:8080/"
        },
        "id": "ePxnjWTAIsMf",
        "outputId": "5fc10144-f2af-4235-c32d-50655eb2e3c2"
      },
      "outputs": [
        {
          "output_type": "execute_result",
          "data": {
            "text/plain": [
              "15"
            ]
          },
          "metadata": {},
          "execution_count": 19
        }
      ],
      "source": [
        "# Add 10 to user_int\n",
        "user_int + 10  # should work now :)"
      ]
    },
    {
      "cell_type": "markdown",
      "source": [
        "\n",
        "\n",
        "---\n",
        "\n"
      ],
      "metadata": {
        "id": "XOyk_XT5C251"
      }
    },
    {
      "cell_type": "markdown",
      "source": [
        "## Part 2: Data structures\n",
        "\n",
        "We've seen that we can store data in basic types, like strings, ints and floats. But, let's say we want to store many of these at a time. For example, let say we have 100 DNA sequences that we want to store and process? Well, for this we have collection types. In this section, we'll see three important collection types:\n",
        "\n",
        "* Lists\n",
        "* Dictionnaries\n",
        "* Tuples"
      ],
      "metadata": {
        "id": "8LhiClEK6D32"
      }
    },
    {
      "cell_type": "markdown",
      "metadata": {
        "id": "YzIhR7pK5xAl"
      },
      "source": [
        "### Lists\n",
        "\n",
        "Lists are of the type list. In principle, they are very similar to strings, where each character is indexed by its position, but each element can be of any type (int, float, str, etc., or even another list).\n",
        "\n",
        "* The elements in a list do not all necessarily have to be of the same type.\n",
        "\n",
        "* A list is written between square brackets with elements separated by commas.\n",
        "\n",
        "* The elements are indexed, and you can access them just like with strings.\n",
        "\n"
      ]
    },
    {
      "cell_type": "code",
      "execution_count": null,
      "metadata": {
        "id": "h2stZ6Bj6mc2"
      },
      "outputs": [],
      "source": [
        "# Can you get the first element of `fruits`?\n",
        "\n",
        "fruits = [\"apple\", \"orange\", \"banana\"]\n",
        "\n"
      ]
    },
    {
      "cell_type": "code",
      "execution_count": null,
      "metadata": {
        "id": "o_PSTNxr7ZFS"
      },
      "outputs": [],
      "source": [
        "# can you spot the difference between:\n",
        "\n",
        "print(fruits[1])\n",
        "\n",
        "print(fruits[1:2])\n"
      ]
    },
    {
      "cell_type": "markdown",
      "metadata": {
        "id": "m_jhaAB079fM"
      },
      "source": [
        "#### Replacing an element of a list\n",
        "\n",
        "Unlike a string, a list can be modified internally without being copied. We say that lists are mutable."
      ]
    },
    {
      "cell_type": "code",
      "execution_count": null,
      "metadata": {
        "id": "eGeSv1Ib8KjH"
      },
      "outputs": [],
      "source": [
        "# Can you replace the first fruit with \"cherry\"?\n",
        "fruits[0] = \"cherry\""
      ]
    },
    {
      "cell_type": "code",
      "execution_count": 7,
      "metadata": {
        "colab": {
          "base_uri": "https://localhost:8080/",
          "height": 35
        },
        "id": "xmNiSiHG8Qsi",
        "outputId": "1787959d-9d14-4245-edf9-37b7efdb90c8"
      },
      "outputs": [
        {
          "output_type": "execute_result",
          "data": {
            "text/plain": [
              "'TGATGCTGC'"
            ],
            "application/vnd.google.colaboratory.intrinsic+json": {
              "type": "string"
            }
          },
          "metadata": {},
          "execution_count": 7
        }
      ],
      "source": [
        "# Can you replace the first nucleotide of DNA_seq1 with \"T\" using the same logic? ==> introducing replace()\n",
        "DNA_seq1 = \"AGATGCTGC\"\n",
        "#DNA_seq1[0] = \"T\"  shouldn't work\n",
        "\n",
        "# Instead, we do:\n",
        "DNA_seq1.replace(\"A\", \"T\", 1)   # 1 means that you're only replacing the first \"A\" with a \"T\", ignoring all the other \"A\"s.\n"
      ]
    },
    {
      "cell_type": "markdown",
      "metadata": {
        "id": "ME3JPzoi9XwE"
      },
      "source": [
        "#### Useful methods on lists\n",
        "\n",
        "There are many other methods that you can perform on lists!!\n",
        "\n",
        "$$\n",
        "\\begin{array}{|l|l|}\n",
        "\\hline\n",
        "\\textbf{Method} & \\textbf{Description} \\\\\n",
        "\\hline\n",
        "\\texttt{list.append(a)} & \\text{Adds the element `a` to the end of the list.} \\\\\n",
        "\\hline\n",
        "\\texttt{list.pop()} & \\text{Removes and returns the last element of the list.} \\\\\n",
        "\\hline\n",
        "\\texttt{list.pop(i)} & \\text{Removes and returns the element at index $i$.} \\\\\n",
        "\\hline\n",
        "\\texttt{list.index(x)} & \\text{Returns the index of the first occurrence of $x$.} \\\\\n",
        "\\hline\n",
        "\\texttt{list.count(x)} & \\text{Counts how many times $x$ appears in the list.} \\\\\n",
        "\\hline\n",
        "\\texttt{list.reverse()} & \\text{Reverses the order of elements in the list.} \\\\\n",
        "\\hline\n",
        "\\texttt{list.sort()} & \\text{Sorts the list.} \\\\\n",
        "\\hline\n",
        "\\end{array}\n",
        "$$\n"
      ]
    },
    {
      "cell_type": "code",
      "execution_count": 8,
      "metadata": {
        "colab": {
          "base_uri": "https://localhost:8080/"
        },
        "id": "VZgmg_Xm9m1c",
        "outputId": "62166dee-72f4-432f-90a0-3e600de3781a"
      },
      "outputs": [
        {
          "output_type": "stream",
          "name": "stdout",
          "text": [
            "List after adding strawberry is ['apple', 'orange', 'banana', 'strawberry']\n",
            "index of oranges is 1\n",
            "List after removing oranges is ['apple', 'banana', 'strawberry']\n",
            "List after sorting is ['apple', 'banana', 'strawberry']\n",
            "List after sorting in descending order is ['strawberry', 'banana', 'apple']\n"
          ]
        }
      ],
      "source": [
        "fruits = [\"apple\", \"orange\", \"banana\"]\n",
        "\n",
        "\n",
        "# Try to add \"strawberry\" to our fruit list\n",
        "fruits.append(\"strawberry\")\n",
        "print(\"List after adding strawberry is\", fruits)\n",
        "\n",
        "# what is the index of \"oranges\"?\n",
        "index = fruits.index(\"orange\")\n",
        "print(\"index of oranges is\", index)\n",
        "\n",
        "# now remove oranges\n",
        "fruits.pop(index)\n",
        "print(\"List after removing oranges is\", fruits)\n",
        "\n",
        "# Sort the list. How was it sorted?\n",
        "fruits.sort()\n",
        "print(\"List after sorting is\", fruits)\n",
        "\n",
        "\n",
        "# Sort the list, in descending order!\n",
        "fruits.sort(reverse=True)\n",
        "print(\"List after sorting in descending order is\", fruits)\n"
      ]
    },
    {
      "cell_type": "markdown",
      "source": [
        "#### List Slicing\n",
        "\n",
        "The same logic seen for strings applies here! Let's practice"
      ],
      "metadata": {
        "id": "iV1jGVGF-T7w"
      }
    },
    {
      "cell_type": "code",
      "source": [
        "fruits = [\"apple\", \"orange\", \"banana\", \"cherry\"]\n",
        "\n",
        "# Get the first nucleotide of fruits\n",
        "print(\"first nucleotide of fruits:\", fruits[0])\n",
        "# Get the last nucleotide of fruits\n",
        "print(\"last nucleotide of fruits:\", fruits[-1])\n",
        "# Get the first 3 nucletides of fruits\n",
        "print(\"the first 5 nucletides of fruits:\", fruits[0:3])\n",
        "# Get the last 2 nucletides of fruits\n",
        "print(\"the last 5 nucletides of fruits:\", fruits[-2:])\n",
        "# Only get \"apple\" and \"banana\"\n",
        "print(\"only apple and banana:\", fruits[0:3:2])  # or  fruits[0::2]\n"
      ],
      "metadata": {
        "colab": {
          "base_uri": "https://localhost:8080/"
        },
        "id": "26YWQFgi-pbW",
        "outputId": "b24921c2-6448-454a-b099-9fcdd75139b5"
      },
      "execution_count": 28,
      "outputs": [
        {
          "output_type": "stream",
          "name": "stdout",
          "text": [
            "first nucleotide of fruits: apple\n",
            "last nucleotide of fruits: cherry\n",
            "the first 5 nucletides of fruits: ['apple', 'orange', 'banana']\n",
            "the last 5 nucletides of fruits: ['banana', 'cherry']\n",
            "only apple and banana: ['apple', 'banana']\n",
            "only apple and banana: ['apple', 'banana']\n"
          ]
        }
      ]
    },
    {
      "cell_type": "markdown",
      "metadata": {
        "id": "1Wl5Mq6T_VY8"
      },
      "source": [
        "#### Be careful!\n",
        "\n",
        "Let's look at this example. Let's create a new list fruits2 to store our fruits."
      ]
    },
    {
      "cell_type": "code",
      "execution_count": null,
      "metadata": {
        "colab": {
          "base_uri": "https://localhost:8080/"
        },
        "id": "Z1q9VNw9_ZdE",
        "outputId": "c84f5e07-9dbb-4322-e13d-e60b60380921"
      },
      "outputs": [
        {
          "name": "stdout",
          "output_type": "stream",
          "text": [
            "['apple', 'orange', 'banana']\n"
          ]
        }
      ],
      "source": [
        "fruits = [\"apple\", \"orange\", \"banana\"]\n",
        "\n",
        "fruits2 = fruits\n",
        "print(fruits2)\n",
        "\n",
        "# change the first element of the original list\n",
        "fruits[0] = \"mango\"\n",
        "print(fruits)\n"
      ]
    },
    {
      "cell_type": "code",
      "execution_count": null,
      "metadata": {
        "colab": {
          "base_uri": "https://localhost:8080/"
        },
        "id": "_kCIwaDY_tJY",
        "outputId": "af5c3b73-10df-4eb4-8dda-793e616932aa"
      },
      "outputs": [
        {
          "name": "stdout",
          "output_type": "stream",
          "text": [
            "['mango', 'orange', 'banana']\n"
          ]
        }
      ],
      "source": [
        "# look at fruits2\n",
        "print(fruits2)"
      ]
    },
    {
      "cell_type": "markdown",
      "metadata": {
        "id": "mae6Ii4SAjBS"
      },
      "source": [
        "We notice that element `0` of `fruits2` has also been modified!\n",
        "\n",
        "In the example, when we assign fruits2 = fruits, Python makes both variables point to the same list in memory. This is confirmed by the logical test: fruits2 is fruit.\n",
        "\n",
        "When `liste[0]` is modified, it’s not the memory address of the list that changes, but rather an element inside the list. So we are updating the value at index 0 within the same list; the list itself remains at the same memory location.\n",
        "\n",
        "Since liste2 points to that same memory location, the modification is reflected there as well. This remains true even if you add or remove elements from the list.\n",
        "\n",
        "If you want to force Python to create a copy of the list in a separate memory location, you can use the `.copy()` method.\n"
      ]
    },
    {
      "cell_type": "code",
      "execution_count": 21,
      "metadata": {
        "id": "sj_1pPYEA88V",
        "colab": {
          "base_uri": "https://localhost:8080/"
        },
        "outputId": "97889fb3-fd33-4c63-9108-bc279e1bc9ee"
      },
      "outputs": [
        {
          "output_type": "stream",
          "name": "stdout",
          "text": [
            "['mango', 'orange', 'banana']\n",
            "['apple', 'orange', 'banana']\n"
          ]
        }
      ],
      "source": [
        "# Let's do it properly so that fruits2 remains unchanged\n",
        "fruits = [\"apple\", \"orange\", \"banana\"]\n",
        "\n",
        "fruits2 = fruits.copy()\n",
        "\n",
        "# change the first element of the original list\n",
        "fruits[0] = \"mango\"\n",
        "print(fruits)\n",
        "print(fruits2)  # should remain unchanged\n"
      ]
    },
    {
      "cell_type": "markdown",
      "metadata": {
        "id": "ddQyf3CSBGYk"
      },
      "source": [
        "### Dictionnaries\n",
        "\n",
        "In a list, elements are indexed by integers from 0 to n.\n",
        "\n",
        "A dictionary is similar to a list, but you can choose the indexes (which don’t have to be integers), and these are called keys.\n",
        "\n",
        "A dictionary is of type `dict`.\n",
        "\n",
        "Dictionaries are defined using curly braces {}. Each element is represented as a `key:value` pair.\n",
        "\n"
      ]
    },
    {
      "cell_type": "code",
      "execution_count": 29,
      "metadata": {
        "colab": {
          "base_uri": "https://localhost:8080/"
        },
        "id": "pmaZ1E0IDlrn",
        "outputId": "c99e23f3-e3c6-4fc7-c639-dd7f77f2f3c5"
      },
      "outputs": [
        {
          "output_type": "execute_result",
          "data": {
            "text/plain": [
              "{'name': 'Sam', 'age': 30, 'profession': 'Engineer'}"
            ]
          },
          "metadata": {},
          "execution_count": 29
        }
      ],
      "source": [
        "# Let's create a dict that stores personal info about people\n",
        "\n",
        "person = {\"name\": \"Sam\", \"age\":30, \"profession\": \"Engineer\"}\n",
        "person\n"
      ]
    },
    {
      "cell_type": "markdown",
      "source": [
        "#### Accessing and modifying a dictionary\n",
        "\n",
        "To access a value in a dictionnary, we use the syntax `dict_name[\"key\"]`."
      ],
      "metadata": {
        "id": "AlSeCVwX_k9S"
      }
    },
    {
      "cell_type": "code",
      "source": [
        "# Get the name and the profession of `person`\n",
        "print(person[\"name\"])\n",
        "print(person[\"profession\"])\n",
        "\n",
        "# modify the profession to \"Teacher\"\n",
        "\n",
        "person[\"profession\"] = \"Teacher\"\n",
        "print(\"person is now\" , person)"
      ],
      "metadata": {
        "colab": {
          "base_uri": "https://localhost:8080/"
        },
        "id": "apuW0JHA_-0p",
        "outputId": "a1541968-9a3d-418f-c6cf-b77b1666aeee"
      },
      "execution_count": 32,
      "outputs": [
        {
          "output_type": "stream",
          "name": "stdout",
          "text": [
            "Sam\n",
            "teacher\n",
            "person is now {'name': 'Sam', 'age': 30, 'profession': 'teacher'}\n"
          ]
        }
      ]
    },
    {
      "cell_type": "markdown",
      "source": [
        "If you'd like to add another key, you just use: `dict_name[\"new_key\"] = new_value`"
      ],
      "metadata": {
        "id": "UL6_XuX1AaIz"
      }
    },
    {
      "cell_type": "code",
      "source": [
        "# Add a key `fav_sport`, and it should be `soccer`\n",
        "person[\"fav_sport\"] = \"soccer\"\n",
        "print(\"person is now\" , person)"
      ],
      "metadata": {
        "colab": {
          "base_uri": "https://localhost:8080/"
        },
        "id": "I13CTIbPAj2T",
        "outputId": "891249b4-c634-4fc8-93cf-e6066e0d894f"
      },
      "execution_count": 33,
      "outputs": [
        {
          "output_type": "stream",
          "name": "stdout",
          "text": [
            "person is now {'name': 'Sam', 'age': 30, 'profession': 'teacher', 'fav_sport': 'soccer'}\n"
          ]
        }
      ]
    },
    {
      "cell_type": "code",
      "execution_count": 23,
      "metadata": {
        "id": "Ynn3_1acE_DC",
        "colab": {
          "base_uri": "https://localhost:8080/"
        },
        "outputId": "12338a2d-ff1b-4a10-8b32-5867903690db"
      },
      "outputs": [
        {
          "output_type": "stream",
          "name": "stdout",
          "text": [
            "{'x': 2.5, 'y': 5, 'z': 10}\n"
          ]
        }
      ],
      "source": [
        "# your turn: create a dictionary `point` that stores the coordinates of a the point A=(2.5 , 5)\n",
        "\n",
        "point = {\"x\":2.5, \"y\":5}\n",
        "\n",
        "# Add the `z` coordinate 10\n",
        "point[\"z\"]= 10\n",
        "print(point)"
      ]
    },
    {
      "cell_type": "markdown",
      "metadata": {
        "id": "jmQYPcRKFlg7"
      },
      "source": [
        "### Tuples\n",
        "\n",
        "Tuples are designated by the `tuple` type. They function like fixed lists (which cannot be modified once constructed: tuples are immutable). They are distinguished from lists by the use of parentheses instead of square brackets."
      ]
    },
    {
      "cell_type": "code",
      "execution_count": 36,
      "metadata": {
        "colab": {
          "base_uri": "https://localhost:8080/"
        },
        "id": "7irHbZvrFoTX",
        "outputId": "56ba62f5-39bd-448c-b4d8-99f94c884674"
      },
      "outputs": [
        {
          "output_type": "execute_result",
          "data": {
            "text/plain": [
              "tuple"
            ]
          },
          "metadata": {},
          "execution_count": 36
        }
      ],
      "source": [
        "first_tuple = (1, 2, \"hi\")\n",
        "type(first_tuple)"
      ]
    },
    {
      "cell_type": "code",
      "execution_count": 40,
      "metadata": {
        "colab": {
          "base_uri": "https://localhost:8080/"
        },
        "id": "AQaL4CS3F3Sg",
        "outputId": "37e8c698-407c-46a2-efef-c9818620ce5f"
      },
      "outputs": [
        {
          "output_type": "execute_result",
          "data": {
            "text/plain": [
              "1"
            ]
          },
          "metadata": {},
          "execution_count": 40
        }
      ],
      "source": [
        "## Methods on tuples\n",
        "\n",
        "# Get first element\n",
        "first_tuple[0]\n",
        "\n",
        "# Can we use append()? ==> no\n",
        "\n",
        "# What about reverse()? ==> no\n",
        "\n"
      ]
    },
    {
      "cell_type": "markdown",
      "source": [
        "\n",
        "\n",
        "---\n",
        "\n"
      ],
      "metadata": {
        "id": "anl5htxPCxvB"
      }
    },
    {
      "cell_type": "markdown",
      "source": [
        "## Part 3: Control Flow\n",
        "\n",
        "Control flow is about \"making decisions\" and \"repeating actions\"."
      ],
      "metadata": {
        "id": "8sx442ZsBOkK"
      }
    },
    {
      "cell_type": "markdown",
      "metadata": {
        "id": "0wf0-08WLAIX"
      },
      "source": [
        "### Conditional Statements in Python\n",
        "\n",
        "In this part, we are going to build on everything we learned previously, including logical test.\n"
      ]
    },
    {
      "cell_type": "markdown",
      "source": [
        "#### Simple tests\n",
        "\n",
        "The structure using `if` is a literal translation of the mathematical conditional structure:\n",
        "\n",
        "$$\n",
        "\\begin{array}{ll}\n",
        "\\textbf{Mathematical} & \\textbf{Python} \\\\\n",
        "\\hline\n",
        "\\text{If condition,} & \\texttt{if condition:} \\\\\n",
        "\\text{Then instructions if the condition is true,} & \\text{block of instructions if the condition is true,} \\\\\n",
        "\\text{Else instructions if the condition is false.} & \\texttt{else:} \\\\\n",
        "                                                    & \\text{block of instructions if the condition is false.} \\\\\n",
        "\\text{Then the program continues outside the block.} & \\text{Program continues outside the block.} \\\\\n",
        "\\end{array}\n",
        "$$\n",
        "\n",
        "Note: The word **\"then\"** is implied in Python and must **not** be written explicitly.\n"
      ],
      "metadata": {
        "id": "WiTNElveFxGu"
      }
    },
    {
      "cell_type": "code",
      "execution_count": null,
      "metadata": {
        "colab": {
          "base_uri": "https://localhost:8080/"
        },
        "id": "h3uNyVx-MeyC",
        "outputId": "2fa716cf-1798-41d6-a668-f0b5baae7bff"
      },
      "outputs": [
        {
          "name": "stdout",
          "output_type": "stream",
          "text": [
            "x is greater than 5\n"
          ]
        }
      ],
      "source": [
        "# Very simple test\n",
        "\n",
        "x = 10\n",
        "\n",
        "if x > 5:\n",
        "    print(\"x is greater than 5\")\n",
        "else:\n",
        "    print(\"x is not greater than 5\")\n"
      ]
    },
    {
      "cell_type": "markdown",
      "metadata": {
        "id": "dP2_uwZtNoI2"
      },
      "source": [
        "Notes:\n",
        "\n",
        "* Indentation determines the code blocks.  \n",
        "* The `else` part is optional.  \n",
        "* Once Python finishes executing the instructions in the selected block, it continues with the rest of the program.\n"
      ]
    },
    {
      "cell_type": "markdown",
      "metadata": {
        "id": "EolxQlu9OicE"
      },
      "source": [
        "#### Nesting of Blocks\n",
        "\n",
        "In a program, each block defined by an indentation level is an independent unit.  \n",
        "This means that within an `if` block, you can include another conditional branch without any problem — and so on, recursively.\n"
      ]
    },
    {
      "cell_type": "code",
      "execution_count": null,
      "metadata": {
        "colab": {
          "base_uri": "https://localhost:8080/"
        },
        "id": "YLqx4_2AOmQX",
        "outputId": "c41e51b0-6c62-4ab4-e9da-5ef66070fcef"
      },
      "outputs": [
        {
          "name": "stdout",
          "output_type": "stream",
          "text": [
            "x is greater than 5\n",
            "x is not greater than 10\n"
          ]
        }
      ],
      "source": [
        "# Let's add another test to see if x>10\n",
        "\n",
        "x = 10\n",
        "\n",
        "# first block\n",
        "if x > 5:\n",
        "    print(\"x is greater than 5\")\n",
        "\n",
        "    # second block\n",
        "    if x>10:\n",
        "      print(\"x is greater that 10\")\n",
        "\n",
        "    else:\n",
        "      print(\"x is not greater than 10\")\n",
        "\n",
        "else:\n",
        "    print(\"x is not greater than 5\")\n"
      ]
    },
    {
      "cell_type": "markdown",
      "metadata": {
        "id": "VTTUr64FPHCb"
      },
      "source": [
        "#### Use of `elif`\n",
        "\n",
        "It is possible to specify multiple alternatives in a conditional statement.   \n",
        "This helps avoid nesting too many `if` statements inside one another.                      \n",
        "To do this, we use the `elif` command as many times as needed.  "
      ]
    },
    {
      "cell_type": "code",
      "execution_count": null,
      "metadata": {
        "colab": {
          "base_uri": "https://localhost:8080/"
        },
        "id": "6KIS6XxmQ8n8",
        "outputId": "46d268a0-17cb-4e9e-a553-ca1eb0887a0f"
      },
      "outputs": [
        {
          "name": "stdout",
          "output_type": "stream",
          "text": [
            "x is positive\n"
          ]
        }
      ],
      "source": [
        "# first block\n",
        "x = 5\n",
        "\n",
        "if x > 0:\n",
        "    print(\"x is positive\")\n",
        "elif x == 0:\n",
        "    print(\"x is zero\")\n",
        "else:\n",
        "    print(\"x is negative\")"
      ]
    },
    {
      "cell_type": "markdown",
      "metadata": {
        "id": "B3FHnBrJRaQi"
      },
      "source": [
        "#### Activity\n",
        "\n",
        "Can you spot the mistake in this code? How do we improve it?"
      ]
    },
    {
      "cell_type": "code",
      "execution_count": null,
      "metadata": {
        "colab": {
          "base_uri": "https://localhost:8080/"
        },
        "id": "COnPuKgQReG4",
        "outputId": "85233cbb-0639-4e27-df7d-715e50414919"
      },
      "outputs": [
        {
          "name": "stdout",
          "output_type": "stream",
          "text": [
            "The chosen number is even\n"
          ]
        }
      ],
      "source": [
        "# enter an integer\n",
        "nb=10\n",
        "\n",
        "if type(nb) != int:\n",
        "    print(\"This is not an integer!\")\n",
        "elif nb % 2 == 0:\n",
        "    print(\"The chosen number is even\")\n",
        "elif nb == 0:\n",
        "    print(\"The chosen number is zero\")\n",
        "else:\n",
        "    print(\"The chosen number is odd\")\n"
      ]
    },
    {
      "cell_type": "code",
      "execution_count": null,
      "metadata": {
        "id": "XmaPN2OmSldn"
      },
      "outputs": [],
      "source": [
        "# Now, fix it"
      ]
    },
    {
      "cell_type": "markdown",
      "metadata": {
        "id": "qorOQh1E867n"
      },
      "source": [
        "### Loops\n",
        "\n",
        "Most of the time, we will need to repeat the same instruction `n` times. Instead of writing the same command `n` times, we are going to use loops!\n"
      ]
    },
    {
      "cell_type": "markdown",
      "metadata": {
        "id": "OjGMcLUCTFzP"
      },
      "source": [
        "#### `while` loop\n",
        "\n",
        "The `while` loop is used to execute instructions **as long as a condition is true**.\n",
        "\n",
        "$$\n",
        "\\begin{array}{ll}\n",
        "\\textbf{Mathematical} & \\textbf{Python} \\\\\n",
        "\\hline\n",
        "\\text{While condition is true,} & \\texttt{while condition:} \\\\\n",
        "\\text{Do the instructions,} & \\text{block of instructions if condition is true,} \\\\\n",
        "\\text{End} & \\text{(no keyword needed, indentation handles it)} \\\\\n",
        "\\text{Continue with the rest of the program} & \\text{program continues after the loop} \\\\\n",
        "\\end{array}\n",
        "$$\n",
        "\n",
        "Let's look at this simple example together"
      ]
    },
    {
      "cell_type": "code",
      "execution_count": null,
      "metadata": {
        "colab": {
          "base_uri": "https://localhost:8080/"
        },
        "collapsed": true,
        "id": "OteDGr-WT6yc",
        "outputId": "add5ef20-dcc7-46ae-b2b9-91eccb1985c4"
      },
      "outputs": [
        {
          "name": "stdout",
          "output_type": "stream",
          "text": [
            "1\n",
            "2\n",
            "3\n",
            "4\n",
            "5\n",
            "6\n",
            "7\n",
            "8\n",
            "9\n",
            "10\n",
            "Finished!\n"
          ]
        }
      ],
      "source": [
        "# Let's count up until 10\n",
        "\n",
        "i = 1\n",
        "\n",
        "while i <= 10:\n",
        "  print(i)\n",
        "  i += 1\n",
        "\n",
        "print(\"Finished!\")\n"
      ]
    },
    {
      "cell_type": "markdown",
      "metadata": {
        "id": "xNRGdmOcUtB4"
      },
      "source": [
        "##### Program Execution Flow\n",
        "\n",
        "- `i` is assigned the value 1  \n",
        "- `i <= 10` is true, so the loop instructions are executed:\n",
        "  - Print `i`: 1  \n",
        "  - Increment `i` by 1 → `i = 1 + 1 = 2`\n",
        "\n",
        "- The loop instructions are done, so the condition `i <= 10` is checked again.  \n",
        "  Since `i = 2`, the condition is still true, and the loop runs again:\n",
        "  - Print `i`: 2  \n",
        "  - Increment `i` by 1 → `i = 2 + 1 = 3`\n",
        "\n",
        "- The condition is tested again, and it's still true...\n",
        "\n",
        "- This continues until `i` becomes 11.  \n",
        "  At that point, the condition `i <= 10` becomes false, and the program skips the loop body.\n",
        "\n",
        "- The program then prints `\"Finished!\"`\n"
      ]
    },
    {
      "cell_type": "markdown",
      "metadata": {
        "id": "6WJvv4TAVNXB"
      },
      "source": [
        "##### Activity\n",
        "\n",
        "What if instead of counting to 10, we count to an integer `n`?"
      ]
    },
    {
      "cell_type": "code",
      "execution_count": null,
      "metadata": {
        "id": "XdYYrdFnVM2T"
      },
      "outputs": [],
      "source": [
        "i = 1\n",
        "n = 100\n",
        "\n",
        "# Rewrite the while statement so that it counts until n\n",
        "while i <=n:\n",
        "  print(i)\n",
        "  i += 1\n",
        "\n",
        "print(\"Finished!\")"
      ]
    },
    {
      "cell_type": "markdown",
      "metadata": {
        "id": "8SwrYrsDVmSz"
      },
      "source": [
        "##### Be careful!\n",
        "\n",
        "Image we comment out the command `i += 1`, What's going to happen?\n",
        "\n",
        "I really don't recommend running it! :p\n",
        "\n",
        "Answer: For the program to eventually finish (i.e., exit the `while` loop), the condition must **change at each iteration** through a variable that is updated.\n",
        "\n",
        "In the previous example, it is the variable `i` that we increment.\n",
        "\n",
        "⚠️ If you forget to update this variable (e.g., forget the line `i += 1`), then the condition will always remain true, and the loop will **never end** — this is called an **infinite loop**.\n",
        "\n"
      ]
    },
    {
      "cell_type": "markdown",
      "metadata": {
        "id": "4tj6Y7BBB2Wp"
      },
      "source": [
        "#### `for` loop                                                                    \n",
        "\n",
        "\n",
        "The `for` loop is like a `while` loop, but the increment is built-in: you don't have to take care of it yourself.\n",
        "\n",
        "Python automatically **initializes and updates** the loop variable for you.\n",
        "\n",
        "As a result, you **won’t get infinite loops** with `for` loops — they always know when to stop.\n",
        "\n",
        "As a first example, let's try to count from 1 to 10 using a `for` loop.\n"
      ]
    },
    {
      "cell_type": "code",
      "execution_count": null,
      "metadata": {
        "id": "8_CZ8sTd_NnB"
      },
      "outputs": [],
      "source": [
        "# print numbers from 1 to 10\n",
        "\n",
        "for i in range(1, 11):\n",
        "  print(i)\n",
        "  i += 1\n",
        "\n",
        "print('Finished!')"
      ]
    },
    {
      "cell_type": "markdown",
      "metadata": {
        "id": "h-TfD2sd_vIw"
      },
      "source": [
        "##### Understanding `range(n, p)` in a `for` loop\n",
        "\n",
        "In Python, `range(n, p)` represents the half‑open interval **[n, p)**:                                       \n",
        "- It **includes** the start value `n`\n",
        "- It **excludes** the end value `p`\n",
        "\n",
        "This, in the example above, we need to use `p=11` to stop the loop at exactly `i=10`.\n",
        "\n",
        "$$\n",
        "\\begin{array}{|l|l|}\n",
        "\\hline\n",
        "\\textbf{Syntax} & \\textbf{Meaning} \\\\\n",
        "\\hline\n",
        "\\text{range(n)} & \\text{integers from 0 to \\(n-1\\)} \\\\\n",
        "\\hline\n",
        "\\text{range(p, n)} & \\text{integers from \\(p\\) to \\(n-1\\)} \\\\\n",
        "\\hline\n",
        "\\text{range(p, n, k)} & \\text{integers from \\(p\\) to \\(n-1\\), with a step of \\(k\\) }\\\\\n",
        "\\hline\n",
        "\\end{array}\n",
        "$$\n",
        "\n",
        "\n",
        "* If `p` is greater than or equal to `n`, then `range(p, n)` produces an empty sequence (but does not raise an error). Both `p` and `n` can be negative.\n",
        "\n",
        "* The step value `k` can be negative, which makes the sequence go downward (e.g. `range(5, 0, -1)` yields 5, 4, 3, 2, 1).\n",
        "\n",
        "\n",
        "\n",
        "Let's use this last command of the table, and count until 100, but skip 5 elements each time\n"
      ]
    },
    {
      "cell_type": "code",
      "execution_count": null,
      "metadata": {
        "colab": {
          "base_uri": "https://localhost:8080/"
        },
        "collapsed": true,
        "id": "wJTKCc2DFZ-R",
        "outputId": "c203a6d9-dc45-4463-d90f-3e3328106e42"
      },
      "outputs": [
        {
          "name": "stdout",
          "output_type": "stream",
          "text": [
            "0\n",
            "5\n",
            "10\n",
            "15\n",
            "20\n",
            "25\n",
            "30\n",
            "35\n",
            "40\n",
            "45\n",
            "50\n",
            "55\n",
            "60\n",
            "65\n",
            "70\n",
            "75\n",
            "80\n",
            "85\n",
            "90\n",
            "95\n",
            "100\n",
            "Finished!\n"
          ]
        }
      ],
      "source": [
        "# print numbers from 1 to 100, skip 5\n",
        "\n",
        "for i in range(0, 101, 5 ):\n",
        "  print(i)\n",
        "  i += 1\n",
        "\n",
        "print('Finished!')"
      ]
    },
    {
      "cell_type": "markdown",
      "metadata": {
        "id": "JaLajzdBHMLp"
      },
      "source": [
        "#### So, should I use a `for` or a `while` loop?\n",
        "\n",
        "==> It depends!\n",
        "\n",
        "* Use a for loop when you know in advance how many times the loop should run. (Usually this corresponds to the exact number of calculations you need to perform.)\n",
        "\n",
        "* Use a while loop in all other cases, where the number of iterations isn’t predetermined.\n"
      ]
    },
    {
      "cell_type": "markdown",
      "metadata": {
        "id": "FBIuKxa2J3Fn"
      },
      "source": [
        "### Iterable objects and `for` loops\n",
        "\n",
        "In Python, `range` is what we call an **iterable object**. This means you can loop over it—exactly what the `for` statement does: it traverses the interval defined by `range`.  \n",
        "\n",
        "This idea extends to any object you can iterate in the same way; such objects are all called **iterables**.\n",
        "\n",
        "For example, strings and lists are iterables!"
      ]
    },
    {
      "cell_type": "code",
      "execution_count": null,
      "metadata": {
        "colab": {
          "base_uri": "https://localhost:8080/"
        },
        "id": "oE8C5EnHKa6D",
        "outputId": "6fd7fb1c-c613-4760-dcb4-253012e61df6"
      },
      "outputs": [
        {
          "name": "stdout",
          "output_type": "stream",
          "text": [
            "apple\n",
            "orange\n",
            "banana\n"
          ]
        }
      ],
      "source": [
        "# Example of list iteration\n",
        "\n",
        "fruits = [ \"apple\", \"orange\", \"banana\"]\n",
        "\n",
        "for fruit in fruits:\n",
        "  print(fruit)"
      ]
    },
    {
      "cell_type": "code",
      "execution_count": null,
      "metadata": {
        "collapsed": true,
        "id": "u1H5MhjcKqJL"
      },
      "outputs": [],
      "source": [
        "# Example of string iteration\n",
        "\n",
        "DNA_seq1 = \"AGATGCTGC\"\n",
        "\n",
        "for nucleotide in DNA_seq1:\n",
        "  print(nucleotide)"
      ]
    },
    {
      "cell_type": "markdown",
      "metadata": {
        "id": "1_3cv6exLG38"
      },
      "source": [
        "In those two examples, the loop variable `i` directly takes each successive value from the iterable (whether it’s the letters of a string or the elements of a list). You could also manually index with `range()` and access items by position, but that is far less elegant and should be avoided whenever possible.\n"
      ]
    },
    {
      "cell_type": "code",
      "execution_count": null,
      "metadata": {
        "colab": {
          "base_uri": "https://localhost:8080/"
        },
        "id": "fZXKsEFyK8i9",
        "outputId": "9f8951f8-f5b0-4490-df2d-656031bab740"
      },
      "outputs": [
        {
          "name": "stdout",
          "output_type": "stream",
          "text": [
            "apple\n",
            "orange\n",
            "banana\n"
          ]
        }
      ],
      "source": [
        "# Example of list iteration (less elegant)\n",
        "\n",
        "fruits = [ \"apple\", \"orange\", \"banana\"]\n",
        "\n",
        "for i in range(len(fruits)):\n",
        "  print(fruits[i])"
      ]
    },
    {
      "cell_type": "code",
      "execution_count": null,
      "metadata": {
        "colab": {
          "base_uri": "https://localhost:8080/"
        },
        "id": "QdgC2xS2LPeX",
        "outputId": "53a43394-e76e-4e01-9b3c-e598db44b2aa"
      },
      "outputs": [
        {
          "name": "stdout",
          "output_type": "stream",
          "text": [
            "A\n",
            "G\n",
            "A\n",
            "T\n",
            "G\n",
            "C\n",
            "T\n",
            "G\n",
            "C\n"
          ]
        }
      ],
      "source": [
        "# Example of string iteration (less elegant)\n",
        "\n",
        "DNA_seq1 = \"AGATGCTGC\"\n",
        "\n",
        "for i in  range(len(DNA_seq1)):\n",
        "  print(DNA_seq1[i])"
      ]
    },
    {
      "cell_type": "markdown",
      "metadata": {
        "id": "1NH7YIvOMcrV"
      },
      "source": [
        "##### Activity\n",
        "\n",
        "Create a list `squares` wich contains the square of each element of the list `numbers`using a for **loop**"
      ]
    },
    {
      "cell_type": "code",
      "execution_count": null,
      "metadata": {
        "colab": {
          "base_uri": "https://localhost:8080/"
        },
        "id": "LadVTFlhLu5i",
        "outputId": "38e6124b-852a-4796-eca7-f8f956fc4c79"
      },
      "outputs": [
        {
          "name": "stdout",
          "output_type": "stream",
          "text": [
            "[1, 4, 9, 16, 25]\n"
          ]
        }
      ],
      "source": [
        "# create squares\n",
        "\n",
        "numbers = [1, 2, 3, 4, 5]\n",
        "squares = []\n",
        "\n",
        "for number in numbers:\n",
        "  squares.append(number**2)\n",
        "\n",
        "print(squares)"
      ]
    },
    {
      "cell_type": "markdown",
      "metadata": {
        "id": "-B0GHc_7M8yF"
      },
      "source": [
        "##### Bonus: `List Comprehension`!\n",
        "\n",
        "There is a more elegant way to achieve the same result in just one line! It's called `List Comprehension`"
      ]
    },
    {
      "cell_type": "code",
      "execution_count": null,
      "metadata": {
        "colab": {
          "base_uri": "https://localhost:8080/"
        },
        "id": "V9IFXnQQNJCA",
        "outputId": "edec0b3b-e455-41f1-f12d-517936605aa9"
      },
      "outputs": [
        {
          "name": "stdout",
          "output_type": "stream",
          "text": [
            "[1, 4, 9, 16, 25]\n"
          ]
        }
      ],
      "source": [
        "# Same exercice, with a list comprehension\n",
        "\n",
        "squares = [ number**2 for number in numbers]              # You can call it number, i, j, k, element, elem, _, ... baasically anything but numbers/squares...\n",
        "print(squares)"
      ]
    },
    {
      "cell_type": "markdown",
      "source": [
        "## Part 4: Functions & Modules\n"
      ],
      "metadata": {
        "id": "rV7rdNGICIad"
      }
    },
    {
      "cell_type": "markdown",
      "metadata": {
        "id": "XefziollZPXN"
      },
      "source": [
        "\n",
        "### Functions\n",
        "\n",
        "A **function** is a finite sequence of instructions that takes an input and returns an output.\n",
        "\n",
        "In Python, functions help you organize your code into reusable blocks. They allow you to avoid repetition and make your programs more readable and modular.\n",
        "\n",
        "Basic syntax:\n",
        "```\n",
        "def function_name(argument):\n",
        "    # sequence of instructions\n",
        "    return result\n",
        "```\n",
        "\n",
        "The function is therefore composed of:\n",
        "*  a header line beginning with the keyword `def` and ending with a colon `:`,\n",
        "*  a block of instructions indented relative to the header line\n",
        "*  a `return` instruction that returns the result\n",
        "\n",
        "Once Python reaches a `return` statement inside a function, it **immediately exits** the function and returns the specified value.\n",
        "\n"
      ]
    },
    {
      "cell_type": "code",
      "execution_count": null,
      "metadata": {
        "id": "KHfcbhnhaDK5"
      },
      "outputs": [],
      "source": [
        "# Example of a function that takes an int and returns its square\n",
        "def square(n):\n",
        "  return n**2"
      ]
    },
    {
      "cell_type": "markdown",
      "metadata": {
        "id": "u0f5rGxIpRHn"
      },
      "source": [
        "Now that we have defined our function, let's call it!"
      ]
    },
    {
      "cell_type": "code",
      "execution_count": null,
      "metadata": {
        "colab": {
          "base_uri": "https://localhost:8080/"
        },
        "id": "6XKHJysiaWFw",
        "outputId": "37056814-3132-4d3f-8880-8e9b859b6b8f"
      },
      "outputs": [
        {
          "data": {
            "text/plain": [
              "100"
            ]
          },
          "execution_count": 6,
          "metadata": {},
          "output_type": "execute_result"
        }
      ],
      "source": [
        "# Let's call it! Find the square of 10 using your function\n",
        "b = square(10)\n",
        "b"
      ]
    },
    {
      "cell_type": "markdown",
      "metadata": {
        "id": "N9InR1NXmXYz"
      },
      "source": [
        "#### Activity 1: Function with one argument\n",
        "\n",
        "Now that we know how to define and call functions, can you go back to where we counted until 10 and maje it a function? This time, 10 is going to be an argument so that we can easily replace it with any other integer."
      ]
    },
    {
      "cell_type": "code",
      "execution_count": 43,
      "metadata": {
        "id": "5RXcVEDRnQ7t"
      },
      "outputs": [],
      "source": [
        "# Turn\n",
        "def count_until_n(n):\n",
        "\n",
        "  for i in range(1,n+1):\n",
        "    print(i)\n",
        "    i += 1\n",
        "\n",
        "  print('Finished!')"
      ]
    },
    {
      "cell_type": "code",
      "execution_count": 44,
      "metadata": {
        "colab": {
          "base_uri": "https://localhost:8080/"
        },
        "id": "nBFD__FnnjFn",
        "outputId": "ab3ea0b2-d588-4fd9-8044-0d4b38beb7a9"
      },
      "outputs": [
        {
          "output_type": "stream",
          "name": "stdout",
          "text": [
            "1\n",
            "2\n",
            "3\n",
            "4\n",
            "5\n",
            "6\n",
            "7\n",
            "8\n",
            "9\n",
            "10\n",
            "Finished!\n"
          ]
        }
      ],
      "source": [
        "count_until_n(10)"
      ]
    },
    {
      "cell_type": "markdown",
      "metadata": {
        "id": "KYcrwo4doaUs"
      },
      "source": [
        "#### Activity 2: Function with 2 arguments\n",
        "\n",
        "A function can take many arguments! It can also take 0! Let's look at an example of two arguments.\n",
        "*texte en italique*\n",
        "Now, go back to the exercice where we tested whether a small DNA sequence (e.g., a motif) is present within a big DNA sequence.\n",
        "\n",
        "Let's define a function `contains_motif` that takes both the small DNA sequence (`motif`), and the big DNA sequence (`dna_seq`), and outputs a boolean."
      ]
    },
    {
      "cell_type": "code",
      "execution_count": null,
      "metadata": {
        "id": "5J2LywRIpQ8_"
      },
      "outputs": [],
      "source": [
        "#  function contains_motif\n",
        "def contains_motif(motif, dna_seq):\n",
        "  result = motif in dna_seq\n",
        "  return result\n",
        "\n",
        "# We can also do this (identical)\n",
        "def contains_motif(motif, dna_seq):\n",
        "  return motif in dna_seq"
      ]
    },
    {
      "cell_type": "markdown",
      "metadata": {
        "id": "AHpXEGcDp-6z"
      },
      "source": [
        "Let's now call this function, and test it on our sequences"
      ]
    },
    {
      "cell_type": "code",
      "execution_count": null,
      "metadata": {
        "colab": {
          "base_uri": "https://localhost:8080/"
        },
        "id": "Yt_9WRgVqJNt",
        "outputId": "41babc63-d17c-4931-bb94-b07876cd3930"
      },
      "outputs": [
        {
          "data": {
            "text/plain": [
              "True"
            ]
          },
          "execution_count": 26,
          "metadata": {},
          "output_type": "execute_result"
        }
      ],
      "source": [
        "# Call `contains_motif`\n",
        "\n",
        "DNA_seq1 = \"AGATGCTGC\"\n",
        "DNA_seq2 = \"GGGTGATGC\"\n",
        "big_DNA_seq = \"GATAGCTGCTAGCTCGTAGCCATGCATCAACGTGGATGCAGTGGGGAGATGCTGCGTGATCGATCA\"\n",
        "\n",
        "contains_motif(DNA_seq1, big_DNA_seq)\n",
        "\n",
        "# identical to:\n",
        "contains_motif(motif = DNA_seq1, dna_seq = big_DNA_seq)\n",
        "\n",
        "# Other ways to do it..."
      ]
    },
    {
      "cell_type": "markdown",
      "metadata": {
        "id": "ccK3pc0EnahQ"
      },
      "source": [
        "Wa have seen that a function takes an input (arguments) and returns an output. Actually, sometimes a function doesn't take any input, or does not return anything!"
      ]
    },
    {
      "cell_type": "code",
      "execution_count": null,
      "metadata": {
        "id": "Q5TsyGGmnntL"
      },
      "outputs": [],
      "source": [
        "# A function that takes no input and returns nothing!\n",
        "def welcome_message():\n",
        "  print(\"Welcome to our workshop!\")   # There is no return!"
      ]
    },
    {
      "cell_type": "code",
      "execution_count": null,
      "metadata": {
        "colab": {
          "base_uri": "https://localhost:8080/"
        },
        "id": "1sUlUnbvn71x",
        "outputId": "71581aa0-b9e0-4b1f-8726-7915c228b291"
      },
      "outputs": [
        {
          "name": "stdout",
          "output_type": "stream",
          "text": [
            "Welcome to our workshop!\n"
          ]
        }
      ],
      "source": [
        "# Call it!\n",
        "welcome_message()"
      ]
    },
    {
      "cell_type": "markdown",
      "metadata": {
        "id": "exrd__OfocqA"
      },
      "source": [
        "So far, we've seen that:\n",
        "\n",
        "* A function definition starts with the def keyword.\n",
        "* A function parameters are given as a comma-separated list in parentheses. As we'll discuss, parameters are optional.\n",
        "* A function body is indented. We'll discuss the function body more later.\n",
        "* If a function returns output, the last line begins with the return keyword.\n",
        "* A function can take multiple arguments, but can also take none!\n",
        "* A function can return multiple elements (separated by a comma), but can also return none!\n"
      ]
    },
    {
      "cell_type": "markdown",
      "metadata": {
        "id": "trX2MdzdpvI3"
      },
      "source": [
        "### Modules:\n",
        "\n",
        "### Importing built-in functions:\n",
        "\n",
        "Just like we can build our own functions, Python has built-in functions that we can use directly!\n",
        "\n",
        "Over time, programmers have created many useful functions that are not built into the core Python language. These extra tools are organized into **libraries** (also called **modules**).\n",
        "\n",
        "To use the functions from a library, you must first **import** the corresponding library into your program."
      ]
    },
    {
      "cell_type": "markdown",
      "metadata": {
        "id": "A9d3MWu7qO40"
      },
      "source": [
        "Let's say we want to determine the circumference of a circle. To do this, we need to apply the formula\n",
        "\n",
        "$$\n",
        "C = 2\\pi r\n",
        "$$\n",
        "\n",
        "$\\pi$ is actually one of those values that we can import from a module. This module is called `math`. Feel free to check out all the build-in function and constants that it offers!: *https://docs.python.org/3/library/math.html*"
      ]
    },
    {
      "cell_type": "code",
      "execution_count": null,
      "metadata": {
        "id": "9L6yN1u3rAn7"
      },
      "outputs": [],
      "source": [
        "pi"
      ]
    },
    {
      "cell_type": "markdown",
      "metadata": {
        "id": "DGXrkzEvrDJg"
      },
      "source": [
        "Actually, before using a function/constant from a module, you first need to improt that module.\n",
        "\n",
        "You only need to run the command `import <module>`."
      ]
    },
    {
      "cell_type": "code",
      "execution_count": null,
      "metadata": {
        "colab": {
          "base_uri": "https://localhost:8080/"
        },
        "id": "yKIKihrjrVkH",
        "outputId": "686dfec5-0b6d-4cb3-9ffe-5c72e42d6a74"
      },
      "outputs": [
        {
          "data": {
            "text/plain": [
              "3.141592653589793"
            ]
          },
          "execution_count": 8,
          "metadata": {},
          "output_type": "execute_result"
        }
      ],
      "source": [
        "# import math and use it to display pi\n",
        "import math\n",
        "math.pi"
      ]
    },
    {
      "cell_type": "markdown",
      "metadata": {
        "id": "332S1nBOrlpt"
      },
      "source": [
        "Note that we have to write module_name.function_name. This is because we are importing the whole module.\n",
        "\n",
        "If you want to import a specific function/constant, use the command `from <module> import <function>`. This way, you will be able to use it directly.\n"
      ]
    },
    {
      "cell_type": "code",
      "execution_count": null,
      "metadata": {
        "colab": {
          "base_uri": "https://localhost:8080/"
        },
        "id": "XTcC5mlxr6Su",
        "outputId": "149caea0-7bfa-463c-ccc2-e314c70ac264"
      },
      "outputs": [
        {
          "data": {
            "text/plain": [
              "3.141592653589793"
            ]
          },
          "execution_count": 9,
          "metadata": {},
          "output_type": "execute_result"
        }
      ],
      "source": [
        "# import math and use it to display pi\n",
        "from math import pi\n",
        "pi"
      ]
    },
    {
      "cell_type": "markdown",
      "metadata": {
        "id": "Oz7HN5tvsBOe"
      },
      "source": [
        "#### Be careful!\n",
        "If you want to import ALL the functions of a module, use the command `from <module> import *`.\n",
        "\n",
        "Sometimes, when you import multiple libraries, you may run into **conflicts** — for example, two libraries might define a function with the same name but different behavior.  \n",
        "\n",
        "To avoid this, it's best to use the first syntax! With this method, every time you use a function from that library, you must prefix it with the library name and a dot (like we did in `math.pi`). However, it can be long and repetitive especially for modules with long names. To make it shorter, you can give the library an alias using the `as` keyword:\n"
      ]
    },
    {
      "cell_type": "code",
      "source": [
        "# Import the module `random` with an alias\n",
        "import random as rd\n",
        "\n",
        "# randint() choses a random number between 1 and 10 (both included)\n",
        "random_number = rd.randint(1,10)\n",
        "print(\"I chose the number\", random_number)\n",
        "\n",
        "# choice() choses a element number in a list\n",
        "random_fruit = rd.choice([\"apple\", \"banana\", \"cherry\"])\n",
        "print(\"I chose the fruit\", random_fruit)\n"
      ],
      "metadata": {
        "colab": {
          "base_uri": "https://localhost:8080/"
        },
        "id": "mXVVJT9dDF2a",
        "outputId": "4cfc3ba2-8348-434a-fd2b-ae7ce02cf1bc"
      },
      "execution_count": 2,
      "outputs": [
        {
          "output_type": "stream",
          "name": "stdout",
          "text": [
            "I chose the number 2\n",
            "I chose the fruit cherry\n"
          ]
        }
      ]
    },
    {
      "cell_type": "markdown",
      "source": [
        "#### Examples of modules\n",
        "\n",
        "There are plenty of modules! As a beginner, here's a list of the ones that are going to be the most useful for you:\n",
        "\n",
        "$$\n",
        "\\begin{array}{|l|l|}\n",
        "\\hline\n",
        "\\textbf{Library} & \\textbf{Description} \\\\\n",
        "\\hline\n",
        "\\texttt{math} & \\text{Basic mathematical tools} \\\\\n",
        "\\texttt{random} & \\text{Random number generation.}  \\\\\n",
        "\\texttt{numpy} & \\text{Powerful numerical arrays.} \\\\\n",
        "\\texttt{pandas} & \\text{Data analysis and manipulation in table format} \\\\\n",
        "\\texttt{matplotlib} & \\text{Plotting and visualization tools} \\\\\n",
        "\\hline\n",
        "\\end{array}\n",
        "$$\n"
      ],
      "metadata": {
        "id": "OtauqFLpEUSL"
      }
    },
    {
      "cell_type": "markdown",
      "source": [
        "#### Bonus activity\n",
        "\n",
        "Using what we have learned so far and the random `package`, can you write a function `generate_random_dna` that generates a random sequence of DNA of length `n`?"
      ],
      "metadata": {
        "id": "HjkY9Sr_nZLX"
      }
    },
    {
      "cell_type": "code",
      "source": [
        "# generate_random_dna\n",
        "\n",
        "def generate_random_dna(n):\n",
        "  sequence = \"\"\n",
        "  for i in range(n):\n",
        "    sequence += rd.choice([\"A\",\"G\",\"C\",\"T\"])\n",
        "\n",
        "  return sequence"
      ],
      "metadata": {
        "id": "rEYRNn7KnYbW"
      },
      "execution_count": 1,
      "outputs": []
    },
    {
      "cell_type": "code",
      "source": [
        "# Use it to generate a sequence of 100 nucleotides\n",
        "generate_random_dna(100)"
      ],
      "metadata": {
        "colab": {
          "base_uri": "https://localhost:8080/",
          "height": 35
        },
        "id": "BhQc-HteoH5S",
        "outputId": "e1a84a3d-1ee8-4328-9712-4d1b85c1c31c"
      },
      "execution_count": 4,
      "outputs": [
        {
          "output_type": "execute_result",
          "data": {
            "text/plain": [
              "'ATCGAAAACCGTGGCATGTACTGTTTCATAGACGAAACGGAAACGTCTATTTACCCATAAAAGATCCTCGTCTTGGTAGTTCACAAATCACATACTGGGT'"
            ],
            "application/vnd.google.colaboratory.intrinsic+json": {
              "type": "string"
            }
          },
          "metadata": {},
          "execution_count": 4
        }
      ]
    },
    {
      "cell_type": "markdown",
      "source": [
        "\n",
        "\n",
        "---\n",
        "\n"
      ],
      "metadata": {
        "id": "-NyjVUwCCqGV"
      }
    },
    {
      "cell_type": "markdown",
      "source": [
        "### Bonus: Intro to matplotlib\n",
        "\n",
        "There are many modules that can be useful for plotting. `matplotlib` is the most famous one.\n",
        "\n",
        "This module provides a number of graphical tools, especially for plotting curves. We will most often use the submodule `matplotlib.pyplot`, which we will assume is imported using the alias `plt`:"
      ],
      "metadata": {
        "id": "4voKOLNfppsB"
      }
    },
    {
      "cell_type": "code",
      "source": [
        "import matplotlib.pyplot as plt"
      ],
      "metadata": {
        "id": "OSO-pRRFqGSJ"
      },
      "execution_count": 6,
      "outputs": []
    },
    {
      "cell_type": "markdown",
      "source": [
        "### Draw a simple line plot\n",
        "\n",
        "To draw a line plot, you provide a list of x‑coordinates and a list of y‑coordinates, then call the `plot()` function to draw the curve.\n",
        "\n",
        "The `axis()` function lets you define the window or visible range of the plot.  \n",
        "\n",
        "If you call `plot()` multiple times, the plots are **superimposed** (drawn on the same figure).\n",
        "\n",
        "Let's try to plot:\n",
        "* $y = 2x$\n",
        "* $y = x^2$\n",
        "* $y = sin(x)$"
      ],
      "metadata": {
        "id": "xvXirPXkq3Mh"
      }
    },
    {
      "cell_type": "code",
      "source": [
        "# plotting y = 2x\n",
        "\n",
        "x = [i for i in range(10)]\n",
        "y = [2*i for i in x] # same as [2, 4, 6, 8]\n",
        "\n",
        "#plt.axis(\"equal\")\n",
        "plt.plot(x, y)\n",
        "plt.grid()\n",
        "plt.show()\n"
      ],
      "metadata": {
        "colab": {
          "base_uri": "https://localhost:8080/",
          "height": 430
        },
        "id": "j2hY8rzWq7ko",
        "outputId": "023da08e-2eef-4584-95f5-4565f843fa4d"
      },
      "execution_count": 20,
      "outputs": [
        {
          "output_type": "display_data",
          "data": {
            "text/plain": [
              "<Figure size 640x480 with 1 Axes>"
            ],
            "image/png": "[encoded data removed]"
          },
          "metadata": {}
        }
      ]
    },
    {
      "cell_type": "code",
      "source": [
        "# plotting y = x **2\n",
        "\n",
        "x = [i for i in range(10)]\n",
        "y = [i**2 for i in x] # same as [2, 4, 6, 8]\n",
        "\n",
        "#plt.axis(\"equal\")\n",
        "plt.plot(x, y)\n",
        "plt.title(r\"$y = x^2$\")\n",
        "plt.xlabel(\"x\")\n",
        "plt.ylabel(r\"$x^2$\")\n",
        "plt.grid()\n",
        "plt.show()\n",
        "\n"
      ],
      "metadata": {
        "colab": {
          "base_uri": "https://localhost:8080/",
          "height": 476
        },
        "id": "-Tuilhv6sKUW",
        "outputId": "ce48dd28-f884-4a99-8309-376af15e179e"
      },
      "execution_count": 44,
      "outputs": [
        {
          "output_type": "display_data",
          "data": {
            "text/plain": [
              "<Figure size 640x480 with 1 Axes>"
            ],
            "image/png": "[encoded data removed]"
          },
          "metadata": {}
        }
      ]
    },
    {
      "cell_type": "code",
      "source": [
        "from math import sin\n",
        "from math import pi\n",
        "\n",
        "# plotting y = x **2\n",
        "\n",
        "x = [i for i in range(0, 10)]\n",
        "print(x)\n",
        "y = [sin(i) for i in x] # same as [2, 4, 6, 8]\n",
        "\n",
        "#plt.axis(\"equal\")\n",
        "plt.plot(x, y)\n",
        "plt.title(\"Sine Wave: y = sin(x)\")\n",
        "plt.xlabel(\"x\")\n",
        "plt.ylabel(\"sin(x)\")\n",
        "plt.grid()\n",
        "plt.show()\n"
      ],
      "metadata": {
        "colab": {
          "base_uri": "https://localhost:8080/",
          "height": 489
        },
        "id": "WncWfpOys_xU",
        "outputId": "7734e504-d3b2-41dd-9fdd-66a14bfbf93d"
      },
      "execution_count": 49,
      "outputs": [
        {
          "output_type": "stream",
          "name": "stdout",
          "text": [
            "[0, 1, 2, 3, 4, 5, 6, 7, 8, 9]\n"
          ]
        },
        {
          "output_type": "display_data",
          "data": {
            "text/plain": [
              "<Figure size 640x480 with 1 Axes>"
            ],
            "image/png": "[encoded data removed]"
          },
          "metadata": {}
        }
      ]
    },
    {
      "cell_type": "markdown",
      "source": [
        "#### Bonus: Let's make the sine plot smoother\n",
        "\n",
        "* `range()` only works with integers (or fixed steps), so the curve would be choppy.\n",
        "\n",
        "* `linspace(start, stop, num_points)` gives you smooth floating-point intervals, perfect for trigonometric plots.\n",
        "\n"
      ],
      "metadata": {
        "id": "n6FklbNlt5b4"
      }
    },
    {
      "cell_type": "code",
      "source": [
        "import numpy as np\n",
        "from math import pi\n",
        "import matplotlib.pyplot as plt\n",
        "\n",
        "x = np.linspace(0, 2 * pi, 100)\n",
        "print(x)\n",
        "# Compute sin(x)\n",
        "y = np.sin(x)\n",
        "\n",
        "# Plot\n",
        "plt.plot(x, y)\n",
        "plt.title(\"Smooth Sine Wave: y = sin(x)\")\n",
        "plt.xlabel(\"x (radians)\")\n",
        "plt.ylabel(\"sin(x)\")\n",
        "plt.grid(True)\n",
        "plt.show()\n"
      ],
      "metadata": {
        "colab": {
          "base_uri": "https://localhost:8080/",
          "height": 767
        },
        "id": "AbjTbpWrttsB",
        "outputId": "23253f47-3e2b-4602-d55f-84480f84630d"
      },
      "execution_count": 50,
      "outputs": [
        {
          "output_type": "stream",
          "name": "stdout",
          "text": [
            "[0.         0.06346652 0.12693304 0.19039955 0.25386607 0.31733259\n",
            " 0.38079911 0.44426563 0.50773215 0.57119866 0.63466518 0.6981317\n",
            " 0.76159822 0.82506474 0.88853126 0.95199777 1.01546429 1.07893081\n",
            " 1.14239733 1.20586385 1.26933037 1.33279688 1.3962634  1.45972992\n",
            " 1.52319644 1.58666296 1.65012947 1.71359599 1.77706251 1.84052903\n",
            " 1.90399555 1.96746207 2.03092858 2.0943951  2.15786162 2.22132814\n",
            " 2.28479466 2.34826118 2.41172769 2.47519421 2.53866073 2.60212725\n",
            " 2.66559377 2.72906028 2.7925268  2.85599332 2.91945984 2.98292636\n",
            " 3.04639288 3.10985939 3.17332591 3.23679243 3.30025895 3.36372547\n",
            " 3.42719199 3.4906585  3.55412502 3.61759154 3.68105806 3.74452458\n",
            " 3.8079911  3.87145761 3.93492413 3.99839065 4.06185717 4.12532369\n",
            " 4.1887902  4.25225672 4.31572324 4.37918976 4.44265628 4.5061228\n",
            " 4.56958931 4.63305583 4.69652235 4.75998887 4.82345539 4.88692191\n",
            " 4.95038842 5.01385494 5.07732146 5.14078798 5.2042545  5.26772102\n",
            " 5.33118753 5.39465405 5.45812057 5.52158709 5.58505361 5.64852012\n",
            " 5.71198664 5.77545316 5.83891968 5.9023862  5.96585272 6.02931923\n",
            " 6.09278575 6.15625227 6.21971879 6.28318531]\n"
          ]
        },
        {
          "output_type": "display_data",
          "data": {
            "text/plain": [
              "<Figure size 640x480 with 1 Axes>"
            ],
            "image/png": "[encoded data removed]"
          },
          "metadata": {}
        }
      ]
    },
    {
      "cell_type": "code",
      "source": [
        "help(np.linspace)"
      ],
      "metadata": {
        "colab": {
          "base_uri": "https://localhost:8080/"
        },
        "id": "27udW8oUvJtt",
        "outputId": "b2102baa-a5b3-4ac5-82a9-e520eed4424f"
      },
      "execution_count": 53,
      "outputs": [
        {
          "output_type": "stream",
          "name": "stdout",
          "text": [
            "Help on _ArrayFunctionDispatcher in module numpy:\n",
            "\n",
            "linspace(start, stop, num=50, endpoint=True, retstep=False, dtype=None, axis=0, *, device=None)\n",
            "    Return evenly spaced numbers over a specified interval.\n",
            "    \n",
            "    Returns `num` evenly spaced samples, calculated over the\n",
            "    interval [`start`, `stop`].\n",
            "    \n",
            "    The endpoint of the interval can optionally be excluded.\n",
            "    \n",
            "    .. versionchanged:: 1.16.0\n",
            "        Non-scalar `start` and `stop` are now supported.\n",
            "    \n",
            "    .. versionchanged:: 1.20.0\n",
            "        Values are rounded towards ``-inf`` instead of ``0`` when an\n",
            "        integer ``dtype`` is specified. The old behavior can\n",
            "        still be obtained with ``np.linspace(start, stop, num).astype(int)``\n",
            "    \n",
            "    Parameters\n",
            "    ----------\n",
            "    start : array_like\n",
            "        The starting value of the sequence.\n",
            "    stop : array_like\n",
            "        The end value of the sequence, unless `endpoint` is set to False.\n",
            "        In that case, the sequence consists of all but the last of ``num + 1``\n",
            "        evenly spaced samples, so that `stop` is excluded.  Note that the step\n",
            "        size changes when `endpoint` is False.\n",
            "    num : int, optional\n",
            "        Number of samples to generate. Default is 50. Must be non-negative.\n",
            "    endpoint : bool, optional\n",
            "        If True, `stop` is the last sample. Otherwise, it is not included.\n",
            "        Default is True.\n",
            "    retstep : bool, optional\n",
            "        If True, return (`samples`, `step`), where `step` is the spacing\n",
            "        between samples.\n",
            "    dtype : dtype, optional\n",
            "        The type of the output array.  If `dtype` is not given, the data type\n",
            "        is inferred from `start` and `stop`. The inferred dtype will never be\n",
            "        an integer; `float` is chosen even if the arguments would produce an\n",
            "        array of integers.\n",
            "    \n",
            "        .. versionadded:: 1.9.0\n",
            "    axis : int, optional\n",
            "        The axis in the result to store the samples.  Relevant only if start\n",
            "        or stop are array-like.  By default (0), the samples will be along a\n",
            "        new axis inserted at the beginning. Use -1 to get an axis at the end.\n",
            "    \n",
            "        .. versionadded:: 1.16.0\n",
            "    device : str, optional\n",
            "        The device on which to place the created array. Default: None.\n",
            "        For Array-API interoperability only, so must be ``\"cpu\"`` if passed.\n",
            "    \n",
            "        .. versionadded:: 2.0.0\n",
            "    \n",
            "    Returns\n",
            "    -------\n",
            "    samples : ndarray\n",
            "        There are `num` equally spaced samples in the closed interval\n",
            "        ``[start, stop]`` or the half-open interval ``[start, stop)``\n",
            "        (depending on whether `endpoint` is True or False).\n",
            "    step : float, optional\n",
            "        Only returned if `retstep` is True\n",
            "    \n",
            "        Size of spacing between samples.\n",
            "    \n",
            "    \n",
            "    See Also\n",
            "    --------\n",
            "    arange : Similar to `linspace`, but uses a step size (instead of the\n",
            "             number of samples).\n",
            "    geomspace : Similar to `linspace`, but with numbers spaced evenly on a log\n",
            "                scale (a geometric progression).\n",
            "    logspace : Similar to `geomspace`, but with the end points specified as\n",
            "               logarithms.\n",
            "    :ref:`how-to-partition`\n",
            "    \n",
            "    Examples\n",
            "    --------\n",
            "    >>> np.linspace(2.0, 3.0, num=5)\n",
            "    array([2.  , 2.25, 2.5 , 2.75, 3.  ])\n",
            "    >>> np.linspace(2.0, 3.0, num=5, endpoint=False)\n",
            "    array([2. ,  2.2,  2.4,  2.6,  2.8])\n",
            "    >>> np.linspace(2.0, 3.0, num=5, retstep=True)\n",
            "    (array([2.  ,  2.25,  2.5 ,  2.75,  3.  ]), 0.25)\n",
            "    \n",
            "    Graphical illustration:\n",
            "    \n",
            "    >>> import matplotlib.pyplot as plt\n",
            "    >>> N = 8\n",
            "    >>> y = np.zeros(N)\n",
            "    >>> x1 = np.linspace(0, 10, N, endpoint=True)\n",
            "    >>> x2 = np.linspace(0, 10, N, endpoint=False)\n",
            "    >>> plt.plot(x1, y, 'o')\n",
            "    [<matplotlib.lines.Line2D object at 0x...>]\n",
            "    >>> plt.plot(x2, y + 0.5, 'o')\n",
            "    [<matplotlib.lines.Line2D object at 0x...>]\n",
            "    >>> plt.ylim([-0.5, 1])\n",
            "    (-0.5, 1)\n",
            "    >>> plt.show()\n",
            "\n"
          ]
        }
      ]
    },
    {
      "cell_type": "markdown",
      "metadata": {
        "id": "O93bbE0tODjC"
      },
      "source": [
        "## Exercises: DNA transcription and mRNA processing\n",
        "\n",
        "Remember that DNA and RNA share most of their nucleotides, but they differ in one of the pyrimidines. DNA has thymine while RNA has uracil. I'm giving you the non-template strand DNA. Replace all the thymine nucleotides with uracil to get the result of transcription.\n",
        "\n",
        "The non-template strand is AGCAGATGCATTAGCCATTAGTTTGCACCAGTATATGCAGAGTTTAGGAGACCATAATTAACGAGAGCCGATAGCTAGA\\"
      ]
    },
    {
      "cell_type": "code",
      "execution_count": null,
      "metadata": {
        "colab": {
          "base_uri": "https://localhost:8080/"
        },
        "id": "82j0PjOGOWUj",
        "outputId": "ed04fcc6-ccaa-4483-fe5e-8098d1df72b3"
      },
      "outputs": [
        {
          "name": "stdout",
          "output_type": "stream",
          "text": [
            "The mRNA is: AGCAGAUGCAUUAGCCAUUAGUUUGCACCAGUAUAUGCAGAGUUUAGGAGACCAUAAUUAACGAGAGCCGAUAGCUAGA\n"
          ]
        }
      ],
      "source": [
        "# Put your code here\n",
        "dna_sequence = \"AGCAGATGCATTAGCCATTAGTTTGCACCAGTATATGCAGAGTTTAGGAGACCATAATTAACGAGAGCCGATAGCTAGA\"\n",
        "mrna_sequence = dna_sequence.replace(\"T\", \"U\")\n",
        "\n",
        "print(\"The mRNA is:\", mrna_sequence)\n"
      ]
    },
    {
      "cell_type": "markdown",
      "metadata": {
        "id": "uQ3hU_vOOqxg"
      },
      "source": [
        "Now, let's say the template strand is AGCAGATGCATTAGCCATTAGTTTGCACCAGTATATGCAGAGTTTAGGAGACCATAATTAACGAGAGCCGATAGCTAGA. Let's transcribe to mRNA."
      ]
    },
    {
      "cell_type": "code",
      "execution_count": null,
      "metadata": {
        "colab": {
          "base_uri": "https://localhost:8080/"
        },
        "id": "EJGWc2v-Onu7",
        "outputId": "73ba6154-ba0a-4911-bc3a-7df659ba4984"
      },
      "outputs": [
        {
          "name": "stdout",
          "output_type": "stream",
          "text": [
            "My mRNA sequence is: UCGUCAUCGUAAUCGGUAAUCAAACGUGGUCAUAUACGUCUCAAAUCCUCUGGUAUUAAUUGCUCUCGGCUAUCGAUCU\n"
          ]
        }
      ],
      "source": [
        "# Put your code here\n",
        "dna_sequence = \"AGCAGTAGCATTAGCCATTAGTTTGCACCAGTATATGCAGAGTTTAGGAGACCATAATTAACGAGAGCCGATAGCTAGA\"\n",
        "\n",
        "mrna_sequence = \"\"\n",
        "\n",
        "for nucleotide in dna_sequence:\n",
        "    if nucleotide == \"A\":\n",
        "        mrna_sequence += \"U\"\n",
        "    elif nucleotide == \"T\":\n",
        "        mrna_sequence += \"A\"\n",
        "    elif nucleotide == \"C\":\n",
        "        mrna_sequence += \"G\"\n",
        "    elif nucleotide == \"G\":\n",
        "        mrna_sequence += \"C\"\n",
        "    else:\n",
        "        print(f\"INVALID NUCLEOTIDE: {nucleotide}\")\n",
        "        break\n",
        "\n",
        "print(f\"My mRNA sequence is: {mrna_sequence}\")"
      ]
    },
    {
      "cell_type": "markdown",
      "metadata": {
        "id": "63FNbXbiPnAV"
      },
      "source": [
        "Now, time to practice lists! Let's take a string of RNA and turn it into a list of codons. At the end, print the number of codons"
      ]
    },
    {
      "cell_type": "code",
      "execution_count": null,
      "metadata": {
        "colab": {
          "base_uri": "https://localhost:8080/"
        },
        "id": "xy_CHH7sPmQd",
        "outputId": "74b8ecee-fcba-4cd1-cb09-7a0a71abfcfe"
      },
      "outputs": [
        {
          "name": "stdout",
          "output_type": "stream",
          "text": [
            "We found 16 codons\n",
            "['AUG', 'ACC', 'GAG', 'UCA', 'GUC', 'AGC', 'UUG', 'CGG', 'CUA', 'CGU', 'ACU', 'GGC', 'CAU', 'UAG', 'CAG', 'UAC']\n"
          ]
        }
      ],
      "source": [
        "my_rna = \"AGCAGCAUGACCGAGUCAGUCAGCUUGCGGCUACGUACUGGCCAUUAGCAGUAC\"\n",
        "\n",
        "# 1. Create an empty codon list\n",
        "my_codons = []\n",
        "\n",
        "# How to iterate over the string...?\n",
        "\n",
        "# 2. Find the start codon\n",
        "start_codon_index = my_rna.find(\"AUG\")\n",
        "\n",
        "for i in range(start_codon_index, len(my_rna)-2, 3):\n",
        "    # 3. Get the codon...\n",
        "    new_codon = my_rna[i:i+3]\n",
        "\n",
        "    # 4. Add codon to list\n",
        "    my_codons.append(new_codon)\n",
        "\n",
        "print(\"We found\", len(my_codons), \"codons\")\n",
        "print(my_codons)\n"
      ]
    },
    {
      "cell_type": "markdown",
      "source": [
        "\n",
        "\n",
        "---\n",
        "\n"
      ],
      "metadata": {
        "id": "OWKSgDODCveS"
      }
    }
  ],
  "metadata": {
    "colab": {
      "toc_visible": true,
      "provenance": []
    },
    "kernelspec": {
      "display_name": "Python 3",
      "name": "python3"
    },
    "language_info": {
      "name": "python"
    }
  },
  "nbformat": 4,
  "nbformat_minor": 0
}